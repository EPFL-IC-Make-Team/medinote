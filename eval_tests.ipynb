{
 "cells": [
  {
   "cell_type": "code",
   "execution_count": 2,
   "metadata": {},
   "outputs": [
    {
     "name": "stderr",
     "output_type": "stream",
     "text": [
      "/Users/paul/anaconda3/envs/ClinicalNotes/lib/python3.11/site-packages/tqdm/auto.py:21: TqdmWarning: IProgress not found. Please update jupyter and ipywidgets. See https://ipywidgets.readthedocs.io/en/stable/user_install.html\n",
      "  from .autonotebook import tqdm as notebook_tqdm\n"
     ]
    }
   ],
   "source": [
    "from utils.eval import *\n",
    "from utils.chat import *\n",
    "\n",
    "%load_ext autoreload\n",
    "%autoreload 2"
   ]
  },
  {
   "cell_type": "code",
   "execution_count": 21,
   "metadata": {},
   "outputs": [
    {
     "data": {
      "text/html": [
       "<div>\n",
       "<style scoped>\n",
       "    .dataframe tbody tr th:only-of-type {\n",
       "        vertical-align: middle;\n",
       "    }\n",
       "\n",
       "    .dataframe tbody tr th {\n",
       "        vertical-align: top;\n",
       "    }\n",
       "\n",
       "    .dataframe thead th {\n",
       "        text-align: right;\n",
       "    }\n",
       "</style>\n",
       "<table border=\"1\" class=\"dataframe\">\n",
       "  <thead>\n",
       "    <tr style=\"text-align: right;\">\n",
       "      <th></th>\n",
       "      <th>gold</th>\n",
       "      <th>pred</th>\n",
       "    </tr>\n",
       "  </thead>\n",
       "  <tbody>\n",
       "    <tr>\n",
       "      <th>0</th>\n",
       "      <td>{'key1': 'value1', 'key2': 'None', 'key3': {'s...</td>\n",
       "      <td>{'key1': 'different_value1', 'key3': {'sub_key...</td>\n",
       "    </tr>\n",
       "    <tr>\n",
       "      <th>1</th>\n",
       "      <td>{'key1': 'None', 'key2': 'value2', 'key3': {'s...</td>\n",
       "      <td>{'key1': 'None', 'key2': 'different_value2', '...</td>\n",
       "    </tr>\n",
       "    <tr>\n",
       "      <th>2</th>\n",
       "      <td>{'key1': 'value3', 'key2': 'None', 'key3': {'s...</td>\n",
       "      <td>{'key1': 'Modified_value3', 'key2': 'None', 'k...</td>\n",
       "    </tr>\n",
       "    <tr>\n",
       "      <th>3</th>\n",
       "      <td>{'key1': 'None', 'key2': 'value4', 'key3': {'s...</td>\n",
       "      <td>{'key2': 'Modified_value4', 'key3': {'sub_key2...</td>\n",
       "    </tr>\n",
       "    <tr>\n",
       "      <th>4</th>\n",
       "      <td>{'key1': 'value5', 'key2': 'None', 'key3': {'s...</td>\n",
       "      <td>{'key1': 'value5', 'key2': 'None', 'key3': {'s...</td>\n",
       "    </tr>\n",
       "    <tr>\n",
       "      <th>5</th>\n",
       "      <td>{'key1': 'None', 'key2': 'value6', 'key3': {'s...</td>\n",
       "      <td>{'key1': 'None', 'key2': 'Modified_value6', 'k...</td>\n",
       "    </tr>\n",
       "    <tr>\n",
       "      <th>6</th>\n",
       "      <td>{'key1': 'value7', 'key2': 'None', 'key3': {'s...</td>\n",
       "      <td>{'key1': 'Modified_value7', 'key3': {'sub_key1...</td>\n",
       "    </tr>\n",
       "    <tr>\n",
       "      <th>7</th>\n",
       "      <td>{'key1': 'None', 'key2': 'value8', 'key3': {'s...</td>\n",
       "      <td>{'key2': 'value8', 'key3': {'sub_key1': 'Modif...</td>\n",
       "    </tr>\n",
       "    <tr>\n",
       "      <th>8</th>\n",
       "      <td>{'key1': 'value9', 'key2': 'None', 'key3': {'s...</td>\n",
       "      <td>{'key1': 'value9', 'key2': 'None', 'key3': {'s...</td>\n",
       "    </tr>\n",
       "    <tr>\n",
       "      <th>9</th>\n",
       "      <td>{'key1': 'None', 'key2': 'value10', 'key3': {'...</td>\n",
       "      <td>{'key2': 'value10', 'key3': {'sub_key2': 'Modi...</td>\n",
       "    </tr>\n",
       "  </tbody>\n",
       "</table>\n",
       "</div>"
      ],
      "text/plain": [
       "                                                gold  \\\n",
       "0  {'key1': 'value1', 'key2': 'None', 'key3': {'s...   \n",
       "1  {'key1': 'None', 'key2': 'value2', 'key3': {'s...   \n",
       "2  {'key1': 'value3', 'key2': 'None', 'key3': {'s...   \n",
       "3  {'key1': 'None', 'key2': 'value4', 'key3': {'s...   \n",
       "4  {'key1': 'value5', 'key2': 'None', 'key3': {'s...   \n",
       "5  {'key1': 'None', 'key2': 'value6', 'key3': {'s...   \n",
       "6  {'key1': 'value7', 'key2': 'None', 'key3': {'s...   \n",
       "7  {'key1': 'None', 'key2': 'value8', 'key3': {'s...   \n",
       "8  {'key1': 'value9', 'key2': 'None', 'key3': {'s...   \n",
       "9  {'key1': 'None', 'key2': 'value10', 'key3': {'...   \n",
       "\n",
       "                                                pred  \n",
       "0  {'key1': 'different_value1', 'key3': {'sub_key...  \n",
       "1  {'key1': 'None', 'key2': 'different_value2', '...  \n",
       "2  {'key1': 'Modified_value3', 'key2': 'None', 'k...  \n",
       "3  {'key2': 'Modified_value4', 'key3': {'sub_key2...  \n",
       "4  {'key1': 'value5', 'key2': 'None', 'key3': {'s...  \n",
       "5  {'key1': 'None', 'key2': 'Modified_value6', 'k...  \n",
       "6  {'key1': 'Modified_value7', 'key3': {'sub_key1...  \n",
       "7  {'key2': 'value8', 'key3': {'sub_key1': 'Modif...  \n",
       "8  {'key1': 'value9', 'key2': 'None', 'key3': {'s...  \n",
       "9  {'key2': 'value10', 'key3': {'sub_key2': 'Modi...  "
      ]
     },
     "metadata": {},
     "output_type": "display_data"
    }
   ],
   "source": [
    "path = 'data/fake_data.jsonl'\n",
    "eval_test_data = pd.read_json(path, lines=True)\n",
    "display(eval_test_data)"
   ]
  },
  {
   "cell_type": "code",
   "execution_count": 79,
   "metadata": {},
   "outputs": [
    {
     "name": "stderr",
     "output_type": "stream",
     "text": [
      "Computing BLEU scores: 100%|██████████| 24/24 [00:00<00:00, 102.38it/s]\n",
      "Computing ROUGE scores: 100%|██████████| 24/24 [00:05<00:00,  4.22it/s]\n"
     ]
    },
    {
     "name": "stdout",
     "output_type": "stream",
     "text": [
      "Computing BERT scores...\n"
     ]
    },
    {
     "name": "stderr",
     "output_type": "stream",
     "text": [
      "Some weights of RobertaModel were not initialized from the model checkpoint at roberta-large and are newly initialized: ['roberta.pooler.dense.weight', 'roberta.pooler.dense.bias']\n",
      "You should probably TRAIN this model on a down-stream task to be able to use it for predictions and inference.\n"
     ]
    },
    {
     "name": "stdout",
     "output_type": "stream",
     "text": [
      "BERTscores computed.\n"
     ]
    },
    {
     "name": "stderr",
     "output_type": "stream",
     "text": [
      "Building score prompts: 100%|██████████| 2/2 [00:00<00:00, 268.92it/s]\n"
     ]
    },
    {
     "name": "stdout",
     "output_type": "stream",
     "text": [
      "Creating sub-batches...\n",
      "RangeIndex(start=0, stop=2, step=1)\n"
     ]
    },
    {
     "name": "stderr",
     "output_type": "stream",
     "text": [
      "Building sub-batches: 100%|██████████| 2/2 [00:18<00:00,  9.39s/it]\n"
     ]
    },
    {
     "name": "stdout",
     "output_type": "stream",
     "text": [
      "Sub_batch 1/1: 2 calls, 508 total tokens: 0.00508$\n",
      "\n",
      "Exception occurred: Wasn't answered in the right format\n",
      "cannot access local variable 'formatted_answer' where it is not associated with a value\n"
     ]
    },
    {
     "ename": "TypeError",
     "evalue": "can only concatenate list (not \"NoneType\") to list",
     "output_type": "error",
     "traceback": [
      "\u001b[0;31m---------------------------------------------------------------------------\u001b[0m",
      "\u001b[0;31mTypeError\u001b[0m                                 Traceback (most recent call last)",
      "Cell \u001b[0;32mIn[79], line 1\u001b[0m\n\u001b[0;32m----> 1\u001b[0m summary_evaluation_ \u001b[38;5;241m=\u001b[39m \u001b[43msummary_evaluation\u001b[49m\u001b[43m(\u001b[49m\u001b[43mpath\u001b[49m\u001b[43m)\u001b[49m\n",
      "File \u001b[0;32m~/Desktop/ClinicalNotes/utils/eval.py:476\u001b[0m, in \u001b[0;36msummary_evaluation\u001b[0;34m(path, score_types)\u001b[0m\n\u001b[1;32m    473\u001b[0m scores_path \u001b[38;5;241m=\u001b[39m path\u001b[38;5;241m.\u001b[39mreplace(\u001b[38;5;124m'\u001b[39m\u001b[38;5;124m.jsonl\u001b[39m\u001b[38;5;124m'\u001b[39m, \u001b[38;5;124m'\u001b[39m\u001b[38;5;124m_scores.jsonl\u001b[39m\u001b[38;5;124m'\u001b[39m)\n\u001b[1;32m    475\u001b[0m \u001b[38;5;66;03m#save_file(dataset, scores_path)\u001b[39;00m\n\u001b[0;32m--> 476\u001b[0m stats \u001b[38;5;241m=\u001b[39m \u001b[43msummary_statistics\u001b[49m\u001b[43m(\u001b[49m\u001b[43mdataset\u001b[49m\u001b[43m[\u001b[49m\u001b[38;5;124;43m'\u001b[39;49m\u001b[38;5;124;43mgold\u001b[39;49m\u001b[38;5;124;43m'\u001b[39;49m\u001b[43m]\u001b[49m\u001b[43m,\u001b[49m\u001b[43m \u001b[49m\u001b[43mdataset\u001b[49m\u001b[43m[\u001b[49m\u001b[38;5;124;43m'\u001b[39;49m\u001b[38;5;124;43mpred\u001b[39;49m\u001b[38;5;124;43m'\u001b[39;49m\u001b[43m]\u001b[49m\u001b[43m,\u001b[49m\u001b[43m \u001b[49m\u001b[43mscore_types\u001b[49m\u001b[43m)\u001b[49m\n\u001b[1;32m    478\u001b[0m \u001b[38;5;66;03m# Compute average matching scores accrosss all field for each metric for each patient summary\u001b[39;00m\n\u001b[1;32m    479\u001b[0m dataset[\u001b[38;5;124m'\u001b[39m\u001b[38;5;124mscores\u001b[39m\u001b[38;5;124m'\u001b[39m] \u001b[38;5;241m=\u001b[39m stats[\u001b[38;5;124m'\u001b[39m\u001b[38;5;124mscores\u001b[39m\u001b[38;5;124m'\u001b[39m]\n",
      "File \u001b[0;32m~/Desktop/ClinicalNotes/utils/eval.py:449\u001b[0m, in \u001b[0;36msummary_statistics\u001b[0;34m(golds, preds, score_types)\u001b[0m\n\u001b[1;32m    447\u001b[0m pairs_df \u001b[38;5;241m=\u001b[39m stats_df[[\u001b[38;5;124m'\u001b[39m\u001b[38;5;124mkeys\u001b[39m\u001b[38;5;124m'\u001b[39m, \u001b[38;5;124m'\u001b[39m\u001b[38;5;124mpairs\u001b[39m\u001b[38;5;124m'\u001b[39m]]\u001b[38;5;241m.\u001b[39mexplode([\u001b[38;5;124m'\u001b[39m\u001b[38;5;124mkeys\u001b[39m\u001b[38;5;124m'\u001b[39m, \u001b[38;5;124m'\u001b[39m\u001b[38;5;124mpairs\u001b[39m\u001b[38;5;124m'\u001b[39m])\n\u001b[1;32m    448\u001b[0m pairs_df[\u001b[38;5;124m'\u001b[39m\u001b[38;5;124mpairs\u001b[39m\u001b[38;5;124m'\u001b[39m] \u001b[38;5;241m=\u001b[39m pairs_df[\u001b[38;5;124m'\u001b[39m\u001b[38;5;124mpairs\u001b[39m\u001b[38;5;124m'\u001b[39m]\u001b[38;5;241m.\u001b[39mapply(\u001b[38;5;28;01mlambda\u001b[39;00m x: {\u001b[38;5;124m'\u001b[39m\u001b[38;5;124mgold\u001b[39m\u001b[38;5;124m'\u001b[39m: x[\u001b[38;5;241m0\u001b[39m], \u001b[38;5;124m'\u001b[39m\u001b[38;5;124mpred\u001b[39m\u001b[38;5;124m'\u001b[39m: x[\u001b[38;5;241m1\u001b[39m]})\n\u001b[0;32m--> 449\u001b[0m scores \u001b[38;5;241m=\u001b[39m \u001b[43mscorer\u001b[49m\u001b[43m(\u001b[49m\u001b[43mpairs_df\u001b[49m\u001b[43m[\u001b[49m\u001b[38;5;124;43m'\u001b[39;49m\u001b[38;5;124;43mpairs\u001b[39;49m\u001b[38;5;124;43m'\u001b[39;49m\u001b[43m]\u001b[49m\u001b[43m)\u001b[49m\n\u001b[1;32m    450\u001b[0m \u001b[38;5;28;01mfor\u001b[39;00m metric \u001b[38;5;129;01min\u001b[39;00m scores\u001b[38;5;241m.\u001b[39mcolumns:\n\u001b[1;32m    451\u001b[0m     pairs_df[metric] \u001b[38;5;241m=\u001b[39m scores[metric]\n",
      "File \u001b[0;32m~/Desktop/ClinicalNotes/utils/eval.py:73\u001b[0m, in \u001b[0;36mScorer.__call__\u001b[0;34m(self, pairs)\u001b[0m\n\u001b[1;32m     71\u001b[0m     pairs_df[\u001b[38;5;124m'\u001b[39m\u001b[38;5;124mbert\u001b[39m\u001b[38;5;124m'\u001b[39m] \u001b[38;5;241m=\u001b[39m \u001b[38;5;28mself\u001b[39m\u001b[38;5;241m.\u001b[39mBERT_scorer(pairs)[\u001b[38;5;124m'\u001b[39m\u001b[38;5;124mbert\u001b[39m\u001b[38;5;124m'\u001b[39m]\n\u001b[1;32m     72\u001b[0m \u001b[38;5;28;01mif\u001b[39;00m \u001b[38;5;124m'\u001b[39m\u001b[38;5;124mgpt_rank\u001b[39m\u001b[38;5;124m'\u001b[39m \u001b[38;5;129;01min\u001b[39;00m \u001b[38;5;28mself\u001b[39m\u001b[38;5;241m.\u001b[39mscore_types:\n\u001b[0;32m---> 73\u001b[0m     pairs_df[\u001b[38;5;124m'\u001b[39m\u001b[38;5;124mgpt_rank\u001b[39m\u001b[38;5;124m'\u001b[39m] \u001b[38;5;241m=\u001b[39m \u001b[38;5;28;43mself\u001b[39;49m\u001b[38;5;241;43m.\u001b[39;49m\u001b[43mGPT_ranker\u001b[49m\u001b[43m(\u001b[49m\u001b[43mpairs\u001b[49m\u001b[43m)\u001b[49m\n\u001b[1;32m     74\u001b[0m \u001b[38;5;28;01mif\u001b[39;00m \u001b[38;5;124m'\u001b[39m\u001b[38;5;124mgpt_score\u001b[39m\u001b[38;5;124m'\u001b[39m \u001b[38;5;129;01min\u001b[39;00m \u001b[38;5;28mself\u001b[39m\u001b[38;5;241m.\u001b[39mscore_types:\n\u001b[1;32m     75\u001b[0m     pairs_df[\u001b[38;5;124m'\u001b[39m\u001b[38;5;124mgpt_score\u001b[39m\u001b[38;5;124m'\u001b[39m] \u001b[38;5;241m=\u001b[39m \u001b[38;5;28mself\u001b[39m\u001b[38;5;241m.\u001b[39mGPT_scorer(pairs)\n",
      "File \u001b[0;32m~/Desktop/ClinicalNotes/utils/eval.py:176\u001b[0m, in \u001b[0;36mScorer.GPT_ranker\u001b[0;34m(self, pairs, model_name, max_tokens, one_call_batch_size, temperature)\u001b[0m\n\u001b[1;32m    174\u001b[0m     \u001b[38;5;28;01mexcept\u001b[39;00m \u001b[38;5;167;01mException\u001b[39;00m \u001b[38;5;28;01mas\u001b[39;00m e:\n\u001b[1;32m    175\u001b[0m         \u001b[38;5;28mprint\u001b[39m(e)\n\u001b[0;32m--> 176\u001b[0m \u001b[38;5;28;01mreturn\u001b[39;00m \u001b[38;5;28;43msum\u001b[39;49m\u001b[43m(\u001b[49m\u001b[43mdataset\u001b[49m\u001b[43m[\u001b[49m\u001b[38;5;124;43m'\u001b[39;49m\u001b[38;5;124;43mwinner\u001b[39;49m\u001b[38;5;124;43m'\u001b[39;49m\u001b[43m]\u001b[49m\u001b[43m,\u001b[49m\u001b[43m \u001b[49m\u001b[43m[\u001b[49m\u001b[43m]\u001b[49m\u001b[43m)\u001b[49m\n",
      "\u001b[0;31mTypeError\u001b[0m: can only concatenate list (not \"NoneType\") to list"
     ]
    },
    {
     "name": "stdout",
     "output_type": "stream",
     "text": [
      "\n",
      "Exception occurred: Wasn't answered in the right format\n"
     ]
    }
   ],
   "source": [
    "summary_evaluation_ = summary_evaluation(path)"
   ]
  }
 ],
 "metadata": {
  "kernelspec": {
   "display_name": "ClinicalNotes",
   "language": "python",
   "name": "python3"
  },
  "language_info": {
   "codemirror_mode": {
    "name": "ipython",
    "version": 3
   },
   "file_extension": ".py",
   "mimetype": "text/x-python",
   "name": "python",
   "nbconvert_exporter": "python",
   "pygments_lexer": "ipython3",
   "version": "3.11.5"
  }
 },
 "nbformat": 4,
 "nbformat_minor": 2
}
