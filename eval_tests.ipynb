{
 "cells": [
  {
   "cell_type": "code",
   "execution_count": 2,
   "metadata": {},
   "outputs": [
    {
     "name": "stderr",
     "output_type": "stream",
     "text": [
      "/Users/paul/anaconda3/envs/ClinicalNotes/lib/python3.11/site-packages/tqdm/auto.py:21: TqdmWarning: IProgress not found. Please update jupyter and ipywidgets. See https://ipywidgets.readthedocs.io/en/stable/user_install.html\n",
      "  from .autonotebook import tqdm as notebook_tqdm\n"
     ]
    }
   ],
   "source": [
    "from utils.eval import *\n",
    "from utils.chat import *\n",
    "\n",
    "%load_ext autoreload\n",
    "%autoreload 2"
   ]
  },
  {
   "cell_type": "code",
   "execution_count": 3,
   "metadata": {},
   "outputs": [
    {
     "data": {
      "text/html": [
       "<div>\n",
       "<style scoped>\n",
       "    .dataframe tbody tr th:only-of-type {\n",
       "        vertical-align: middle;\n",
       "    }\n",
       "\n",
       "    .dataframe tbody tr th {\n",
       "        vertical-align: top;\n",
       "    }\n",
       "\n",
       "    .dataframe thead th {\n",
       "        text-align: right;\n",
       "    }\n",
       "</style>\n",
       "<table border=\"1\" class=\"dataframe\">\n",
       "  <thead>\n",
       "    <tr style=\"text-align: right;\">\n",
       "      <th></th>\n",
       "      <th>gold</th>\n",
       "      <th>pred</th>\n",
       "    </tr>\n",
       "  </thead>\n",
       "  <tbody>\n",
       "    <tr>\n",
       "      <th>0</th>\n",
       "      <td>{'key1': 'value1', 'key2': 'None', 'key3': {'s...</td>\n",
       "      <td>{'key1': 'different_value1', 'key3': {'sub_key...</td>\n",
       "    </tr>\n",
       "    <tr>\n",
       "      <th>1</th>\n",
       "      <td>{'key1': 'None', 'key2': 'value2', 'key3': {'s...</td>\n",
       "      <td>{'key1': 'None', 'key2': 'different_value2', '...</td>\n",
       "    </tr>\n",
       "    <tr>\n",
       "      <th>2</th>\n",
       "      <td>{'key1': 'value3', 'key2': 'None', 'key3': {'s...</td>\n",
       "      <td>{'key1': 'Modified_value3', 'key2': 'None', 'k...</td>\n",
       "    </tr>\n",
       "    <tr>\n",
       "      <th>3</th>\n",
       "      <td>{'key1': 'None', 'key2': 'value4', 'key3': {'s...</td>\n",
       "      <td>{'key2': 'Modified_value4', 'key3': {'sub_key2...</td>\n",
       "    </tr>\n",
       "    <tr>\n",
       "      <th>4</th>\n",
       "      <td>{'key1': 'value5', 'key2': 'None', 'key3': {'s...</td>\n",
       "      <td>{'key1': 'value5', 'key2': 'None', 'key3': {'s...</td>\n",
       "    </tr>\n",
       "    <tr>\n",
       "      <th>5</th>\n",
       "      <td>{'key1': 'None', 'key2': 'value6', 'key3': {'s...</td>\n",
       "      <td>{'key1': 'None', 'key2': 'Modified_value6', 'k...</td>\n",
       "    </tr>\n",
       "    <tr>\n",
       "      <th>6</th>\n",
       "      <td>{'key1': 'value7', 'key2': 'None', 'key3': {'s...</td>\n",
       "      <td>{'key1': 'Modified_value7', 'key3': {'sub_key1...</td>\n",
       "    </tr>\n",
       "    <tr>\n",
       "      <th>7</th>\n",
       "      <td>{'key1': 'None', 'key2': 'value8', 'key3': {'s...</td>\n",
       "      <td>{'key2': 'value8', 'key3': {'sub_key1': 'Modif...</td>\n",
       "    </tr>\n",
       "    <tr>\n",
       "      <th>8</th>\n",
       "      <td>{'key1': 'value9', 'key2': 'None', 'key3': {'s...</td>\n",
       "      <td>{'key1': 'value9', 'key2': 'None', 'key3': {'s...</td>\n",
       "    </tr>\n",
       "    <tr>\n",
       "      <th>9</th>\n",
       "      <td>{'key1': 'None', 'key2': 'value10', 'key3': {'...</td>\n",
       "      <td>{'key2': 'value10', 'key3': {'sub_key2': 'Modi...</td>\n",
       "    </tr>\n",
       "  </tbody>\n",
       "</table>\n",
       "</div>"
      ],
      "text/plain": [
       "                                                gold  \\\n",
       "0  {'key1': 'value1', 'key2': 'None', 'key3': {'s...   \n",
       "1  {'key1': 'None', 'key2': 'value2', 'key3': {'s...   \n",
       "2  {'key1': 'value3', 'key2': 'None', 'key3': {'s...   \n",
       "3  {'key1': 'None', 'key2': 'value4', 'key3': {'s...   \n",
       "4  {'key1': 'value5', 'key2': 'None', 'key3': {'s...   \n",
       "5  {'key1': 'None', 'key2': 'value6', 'key3': {'s...   \n",
       "6  {'key1': 'value7', 'key2': 'None', 'key3': {'s...   \n",
       "7  {'key1': 'None', 'key2': 'value8', 'key3': {'s...   \n",
       "8  {'key1': 'value9', 'key2': 'None', 'key3': {'s...   \n",
       "9  {'key1': 'None', 'key2': 'value10', 'key3': {'...   \n",
       "\n",
       "                                                pred  \n",
       "0  {'key1': 'different_value1', 'key3': {'sub_key...  \n",
       "1  {'key1': 'None', 'key2': 'different_value2', '...  \n",
       "2  {'key1': 'Modified_value3', 'key2': 'None', 'k...  \n",
       "3  {'key2': 'Modified_value4', 'key3': {'sub_key2...  \n",
       "4  {'key1': 'value5', 'key2': 'None', 'key3': {'s...  \n",
       "5  {'key1': 'None', 'key2': 'Modified_value6', 'k...  \n",
       "6  {'key1': 'Modified_value7', 'key3': {'sub_key1...  \n",
       "7  {'key2': 'value8', 'key3': {'sub_key1': 'Modif...  \n",
       "8  {'key1': 'value9', 'key2': 'None', 'key3': {'s...  \n",
       "9  {'key2': 'value10', 'key3': {'sub_key2': 'Modi...  "
      ]
     },
     "metadata": {},
     "output_type": "display_data"
    }
   ],
   "source": [
    "path = 'data/fake_data.jsonl'\n",
    "eval_test_data = pd.read_json(path, lines=True)\n",
    "display(eval_test_data)"
   ]
  },
  {
   "cell_type": "code",
   "execution_count": 53,
   "metadata": {},
   "outputs": [
    {
     "name": "stderr",
     "output_type": "stream",
     "text": [
      "Computing BLEU scores: 100%|██████████| 24/24 [00:00<00:00, 145.61it/s]\n",
      "Computing ROUGE scores: 100%|██████████| 24/24 [00:05<00:00,  4.78it/s]\n"
     ]
    },
    {
     "name": "stdout",
     "output_type": "stream",
     "text": [
      "Computing BERT scores...\n"
     ]
    },
    {
     "name": "stderr",
     "output_type": "stream",
     "text": [
      "Some weights of RobertaModel were not initialized from the model checkpoint at roberta-large and are newly initialized: ['roberta.pooler.dense.bias', 'roberta.pooler.dense.weight']\n",
      "You should probably TRAIN this model on a down-stream task to be able to use it for predictions and inference.\n"
     ]
    },
    {
     "name": "stdout",
     "output_type": "stream",
     "text": [
      "BERTscores computed.\n",
      "GPT-4 ranking...\n"
     ]
    },
    {
     "name": "stderr",
     "output_type": "stream",
     "text": [
      "Building score prompts: 100%|██████████| 2/2 [00:00<00:00, 1083.52it/s]\n"
     ]
    },
    {
     "name": "stdout",
     "output_type": "stream",
     "text": [
      "Creating sub-batches...\n",
      "RangeIndex(start=0, stop=2, step=1)\n"
     ]
    },
    {
     "name": "stderr",
     "output_type": "stream",
     "text": [
      "Building sub-batches: 100%|██████████| 2/2 [00:00<00:00, 736.88it/s]"
     ]
    },
    {
     "name": "stdout",
     "output_type": "stream",
     "text": [
      "Sub_batch 1/1: 2 calls, 510 total tokens: 0.0051$\n"
     ]
    },
    {
     "name": "stderr",
     "output_type": "stream",
     "text": [
      "\n"
     ]
    },
    {
     "name": "stdout",
     "output_type": "stream",
     "text": [
      "[['tie', 'gold', 'pred', 'tie', 'tie', 'pred', 'tie', 'pred', 'tie', 'pred', 'gold', 'tie', 'pred', 'gold', 'pred', 'pred', 'pred', 'gold', 'pred', 'pred'], ['tie', 'tie', 'tie', 'tie']]\n",
      "GPT-4 scoring...\n"
     ]
    },
    {
     "name": "stderr",
     "output_type": "stream",
     "text": [
      "Building score prompts: 100%|██████████| 3/3 [00:00<00:00, 1637.33it/s]\n"
     ]
    },
    {
     "name": "stdout",
     "output_type": "stream",
     "text": [
      "RangeIndex(start=0, stop=3, step=1)\n"
     ]
    },
    {
     "name": "stderr",
     "output_type": "stream",
     "text": [
      "Building sub-batches: 100%|██████████| 3/3 [00:00<00:00, 926.71it/s]"
     ]
    },
    {
     "name": "stdout",
     "output_type": "stream",
     "text": [
      "Sub_batch 1/1: 3 calls, 539 total tokens: 0.005390000000000001$\n"
     ]
    },
    {
     "name": "stderr",
     "output_type": "stream",
     "text": [
      "\n"
     ]
    }
   ],
   "source": [
    "eval_dataset, by_keys = summary_evaluation(path, 'all')"
   ]
  },
  {
   "cell_type": "code",
   "execution_count": 54,
   "metadata": {},
   "outputs": [],
   "source": [
    "display(eval_dataset)\n",
    "display(by_keys)"
   ]
  }
 ],
 "metadata": {
  "kernelspec": {
   "display_name": "ClinicalNotes",
   "language": "python",
   "name": "python3"
  },
  "language_info": {
   "codemirror_mode": {
    "name": "ipython",
    "version": 3
   },
   "file_extension": ".py",
   "mimetype": "text/x-python",
   "name": "python",
   "nbconvert_exporter": "python",
   "pygments_lexer": "ipython3",
   "version": "3.11.5"
  }
 },
 "nbformat": 4,
 "nbformat_minor": 2
}
