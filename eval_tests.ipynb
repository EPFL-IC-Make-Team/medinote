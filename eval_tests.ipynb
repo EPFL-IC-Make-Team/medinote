{
 "cells": [
  {
   "cell_type": "code",
   "execution_count": 11,
   "metadata": {},
   "outputs": [],
   "source": [
    "\n",
    "from utils.inference import *\n",
    "import pandas as pd\n",
    "from  utils.eval import *\n",
    "from utils.chat import *\n",
    "from utils.data import *\n",
    "\n",
    "%reload_ext autoreload\n",
    "%autoreload 2"
   ]
  },
  {
   "cell_type": "code",
   "execution_count": null,
   "metadata": {},
   "outputs": [],
   "source": [
    "{}.update(None)"
   ]
  },
  {
   "cell_type": "code",
   "execution_count": null,
   "metadata": {},
   "outputs": [],
   "source": [
    "answers = ['{ \"name\":\"John\", \"age\"', '{\"age\": 30, \"occupation\": \"fireman\"']\n",
    "answers = [complete_json(answer) for answer in answers]\n",
    "join_jsons(answers)"
   ]
  },
  {
   "cell_type": "code",
   "execution_count": null,
   "metadata": {},
   "outputs": [],
   "source": [
    "answer = \"\"\"\n",
    "{\n",
    "\"visit motivation\": \"Pain in the right shoulder and limited range of motion\",                                                                            \n",
    "\"admission\": [                                                                                                                                           \n",
    "{                                                                                                                                                        \n",
    "\"reason\": \"Right anterior superior shoulder dislocation associated with proximal humerus fracture\",                                                      \n",
    "\"date\": \"None\",                                                                                                                                          \n",
    "\"duration\": \"None\",                                                                                                                                      \n",
    "\"care center details\": \"Different hospital for specialized treatment\"                                                                                    \n",
    "}                                                                                                                                                        \n",
    "],                                                                                                                                                       \n",
    "\"patient information\": {                                                                                                                                 \n",
    "\"age\": \"30 years old\",                                                                                                                                   \n",
    "\"sex\": \"Male\",                                                                                                                                           \n",
    "\"ethnicity\": \"None\",                                                                                                                                     \n",
    "\"weight\": \"None\",                                                                                                                                        \n",
    "\"height\": \"None\",                                                                                                                                        \n",
    "\"family medical history\": \"None\",                                                                                                                        \n",
    "\"recent travels\": \"None\",                                                                                                                                \n",
    "\"socio economic context\": \"None\",                                                                                                                        \n",
    "\"occupation\": \"None\"                                                                                                                                     \n",
    "},                                                                                                                                                       \n",
    "\"patient medical history\": {                                                                                                                             \n",
    "\"physiological context\": \"None\",                                                                                                                         \n",
    "\"psychological context\": \"None\",                                                                                                                         \n",
    "\"vaccination history\": \"None\",                                                                                                                           \n",
    "\"allergies\": \"None\",\n",
    "\"exercise frequency\": \"None\",\n",
    "\"nutrition\": \"None\",\n",
    "\"sexual history\": \"None\",\n",
    "\"alcohol consumption\": \"None\",\n",
    "\"drug usage\": \"None\",\n",
    "\"smoking status\": \"None\"\n",
    "},\n",
    "\"surgeries\": [                                                                                                                                           \n",
    "{                                                                                                                                                        \n",
    "\"reason\": \"Right anterior superior shoulder dislocation associated with proximal humerus fracture\",\n",
    "\"Type\": \"Open reduction and internal fixation, coracoid osteotomy\",\n",
    "\"time\": \"None\",\n",
    "\"outcome\": \"None\",\n",
    "\"details\": \"Intraoperative findings included an anteriorly dislocated humeral head with no soft tissue interposition.\n",
    "Lateralization of the head was performed under image guidance.\n",
    "The lesser tuberosity was not visible due to severe medial displacement of the proximal humerus, but it was present on 3-dimensional reconstruction model\n",
    "s.\n",
    "A gull-wing osteotomy was performed to access the lesser tuberosity.\n",
    "The fracture was deemed reducible but was not fully reducible without debulking the lateral part of the proximal metaphysis.\n",
    "Debulking was performed to enable the reduction of the fracture, and attention was then turned to the dislocation.\"\n",
    "}\n",
    "],\n",
    "\"symptoms\": [\n",
    "{\n",
    "\"name of symptom\": \"Pain\",\n",
    "\"intensity of symptom\": \"8/10\",\n",
    "\"location\": \"Right shoulder\",\n",
    "\"time\": \"None\",\n",
    "\"temporalisation\": \"Over 3 months\",\n",
    "\"behaviours affecting the symptom\": \"Movement of the shoulder\",\n",
    "\"details\": \"Limited range of motion: 10 degrees of abduction, 45 degrees of forward flexion, and 4 degrees of inward rotation\"\n",
    "}\n",
    "],\n",
    "\"medical examinations\": [\n",
    "{\n",
    "\"name\": \"Neer classification\",\n",
    "\"result\": \"Type I\",\n",
    "\"details\": \"Associated with proximal humerus fracture\"\n",
    "},\n",
    "{\n",
    "\"name\": \"CT scan\",\n",
    "\"result\": \"Bony defect at the anterior inferior glenohumeral joint\",\n",
    "\"details\": \"To rule out a bony bankart injury\"\n",
    "}\n",
    "],\n",
    "\"diagnosis tests\": [\n",
    "{\n",
    "\"test\": \"COVID-19 polymerase chain reaction (PCR) test\",\n",
    "\"severity\": \"None\",\n",
    "\"result\": \"Negative\",\n",
    "\"condition\": \"COVID-19\",\n",
    "\"time\": \"None\",\n",
    "\"details\": \"Required prior to surgery\" \n",
    "\"treatments\": [                                                                                                                                          \n",
    "{                                                                                                                                                        \n",
    "\"name\": \"Conservative treatment\",\n",
    "\"related condition\": \"Right anterior superior shoulder dislocation associated with proximal humerus fracture\",\n",
    "\"dosage\": \"None\",\n",
    "\"time\": \"Initially after injury\",\n",
    "\"frequency\": \"None\",\n",
    "\"duration\": \"None\",\n",
    "\"reason for taking\": \"Initial management of the dislocation and fracture\",\n",
    "\"reaction to treatment\": \"None\",\n",
    "\"details\": \"Involved a sling immobilization by local doctors\"\n",
    "}\n",
    "],\n",
    "\"discharge\": {\n",
    "\"reason\": \"None\",\n",
    "\"referral\": \"None\",\n",
    "\"follow up\": \"None\",\n",
    "\"discharge summary\": \"None\"\n",
    "}\n",
    "} \n",
    "\"\"\"\n",
    "json_str = json.loads(answer)\n",
    "print(formatting(json.dumps(json_str, indent=4)))\n"
   ]
  },
  {
   "cell_type": "code",
   "execution_count": null,
   "metadata": {},
   "outputs": [],
   "source": []
  },
  {
   "cell_type": "code",
   "execution_count": null,
   "metadata": {},
   "outputs": [],
   "source": [
    "template_path = 'generation/templates/template.json'\n",
    "check_summary(answer, template_path)"
   ]
  },
  {
   "cell_type": "markdown",
   "metadata": {},
   "source": [
    "## Tests for summary evaluation"
   ]
  },
  {
   "cell_type": "code",
   "execution_count": null,
   "metadata": {},
   "outputs": [],
   "source": [
    "path = 'data/fake_summary_data.jsonl'\n",
    "eval_test_data = pd.read_json(path, lines=True)\n",
    "display(eval_test_data)"
   ]
  },
  {
   "cell_type": "code",
   "execution_count": null,
   "metadata": {},
   "outputs": [],
   "source": [
    "eval_dataset, by_keys = summary_evaluation(path)"
   ]
  },
  {
   "cell_type": "code",
   "execution_count": null,
   "metadata": {},
   "outputs": [],
   "source": [
    "display(eval_dataset)\n",
    "display(by_keys)"
   ]
  },
  {
   "cell_type": "code",
   "execution_count": null,
   "metadata": {},
   "outputs": [],
   "source": [
    "print(eval_test_data.iloc[0]['gold'])\n",
    "print(eval_test_data.iloc[0]['pred'])"
   ]
  },
  {
   "cell_type": "code",
   "execution_count": null,
   "metadata": {},
   "outputs": [],
   "source": [
    "# don't use GPT-4 scores to test the other methods\n",
    "score_types = ['bleu', 'rouge', 'bert']\n",
    "eval_dataset, by_keys = summary_evaluation(path, score_types=score_types)"
   ]
  },
  {
   "cell_type": "code",
   "execution_count": null,
   "metadata": {},
   "outputs": [],
   "source": [
    "arr = np.array([[0, 2], [1, 3]])\n",
    "idx = np.argmax(arr)\n",
    "unravel_idx = np.unravel_index(idx, arr.shape)\n",
    "print(unravel_idx)"
   ]
  },
  {
   "cell_type": "code",
   "execution_count": null,
   "metadata": {},
   "outputs": [],
   "source": [
    "[0] * 3 + [1] * 2"
   ]
  },
  {
   "cell_type": "markdown",
   "metadata": {},
   "source": [
    "## Tests for clinical notes evaluation"
   ]
  },
  {
   "cell_type": "code",
   "execution_count": 18,
   "metadata": {},
   "outputs": [
    {
     "name": "stdout",
     "output_type": "stream",
     "text": [
      "Saved as jsonl to evaluation/summary_eval_input.jsonl.\n",
      "Saved as jsonl to evaluation/note_eval_input.jsonl.\n",
      "Saved as jsonl to evaluation/direct_note_eval_input.jsonl.\n",
      "Saved as jsonl to evaluation/gpt_note_eval_input.jsonl.\n"
     ]
    }
   ],
   "source": [
    "path = 'data/inference_sample.jsonl'\n",
    "\n",
    "build_evaluation_inputs(path)"
   ]
  },
  {
   "cell_type": "code",
   "execution_count": null,
   "metadata": {},
   "outputs": [],
   "source": [
    "\n",
    "   "
   ]
  },
  {
   "cell_type": "code",
   "execution_count": null,
   "metadata": {},
   "outputs": [],
   "source": [
    "path = 'data/fake_clinical_notes_data.jsonl'\n",
    "eval_test_data_clinacal_notes = pd.read_json(path, lines=True)\n",
    "display(eval_test_data_clinacal_notes)"
   ]
  },
  {
   "cell_type": "code",
   "execution_count": null,
   "metadata": {},
   "outputs": [],
   "source": [
    "res = clinical_note_evaluation('fake',path)"
   ]
  },
  {
   "cell_type": "code",
   "execution_count": null,
   "metadata": {},
   "outputs": [],
   "source": [
    "display(res)"
   ]
  }
 ],
 "metadata": {
  "kernelspec": {
   "display_name": "ClinicalNotes",
   "language": "python",
   "name": "python3"
  },
  "language_info": {
   "codemirror_mode": {
    "name": "ipython",
    "version": 3
   },
   "file_extension": ".py",
   "mimetype": "text/x-python",
   "name": "python",
   "nbconvert_exporter": "python",
   "pygments_lexer": "ipython3",
   "version": "3.11.5"
  }
 },
 "nbformat": 4,
 "nbformat_minor": 2
}
