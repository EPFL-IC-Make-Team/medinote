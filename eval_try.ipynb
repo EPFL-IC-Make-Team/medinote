{
 "cells": [
  {
   "cell_type": "code",
   "execution_count": 19,
   "metadata": {},
   "outputs": [
    {
     "name": "stdout",
     "output_type": "stream",
     "text": [
      "The autoreload extension is already loaded. To reload it, use:\n",
      "  %reload_ext autoreload\n"
     ]
    }
   ],
   "source": [
    "from eval_utils import *    \n",
    "import json\n",
    "\n",
    "%load_ext autoreload\n",
    "%autoreload 2\n"
   ]
  },
  {
   "cell_type": "code",
   "execution_count": 62,
   "metadata": {},
   "outputs": [
    {
     "name": "stdout",
     "output_type": "stream",
     "text": [
      "template_definitions: {'visit motivation': \"Reason for the patient's visit\", 'admission': [{'reason': 'Reason for admission to a care center', 'date': 'Date of first admission', 'duration': \"Length of patient's stay\", 'care center details': 'Any details of care center the patient was admitted to (e.g. oncology clinic)'}], 'patient information': {'age': \"Patient's age\", 'sex': \"Patient's sex\", 'ethnicity': \"Patient's ethnicity or nationality\", 'weight': \"Patient's weight\", 'height': \"Patient's height\", 'family medical history': 'Information about family medical history', 'recent travels': \"Details about patient's recent travels\", 'socio economic context': \"Patient's socioeconomic background\", 'occupation': \"Patient's occupation\"}, 'patient medical history': {'physiological context': 'Relevant physiological history of the patient', 'psychological context': 'Relevant psychological history of the patient', 'vaccination history': 'History of vaccinations received by the patient', 'allergies': 'Any known allergies of the patient', 'exercise frequency': \"Frequency of patient's exercise activity\", 'nutrition': \"Information about patient's nutrition\", 'sexual history': \"Relevant details about patient's sexual history\", 'alcohol consumption': \"Patient's alcohol consumption habits\", 'drug usage': 'Information about any recreative drugs used by patient', 'smoking status': \"Patient's smoking status\"}, 'surgeries': [{'reason': 'Reason for surgery', 'Type': 'Type of surgery performed', 'time': 'Time of surgery', 'outcome': 'Outcome of surgery', 'details': 'Details about the surgery'}], 'symptoms': [{'name of symptom': 'Specific symptom experienced by the patient', 'intensity of symptom': 'Severity or intensity of the symptom', 'location': 'Where the symptom is localized', 'time': 'Any temporal details about when the symtom appears', 'temporalisation': 'Any specific timing patterns associated with the symptom', 'behaviours affecting the symptom': \"Activities or actions that influence the symptom's severity or occurrence.\", 'details': 'All additional details about the symptom'}], 'medical examinations': [{'name': 'name of medical examination performed', 'result': 'Result or measurement of the physical examination', 'details': 'All additional details about the physical examination'}], 'diagnosis tests': [{'test': 'Name of medical test performed to diagnose the condition', 'severity': 'Severity level of diagnosed condition', 'result': 'Result or measurement of the medical test performed to diagnose the condition', 'condition': 'Name of medical conditions diagnosed', 'time': 'Any temporal details about when the diagnosis test was performed', 'details': 'All additional details about the medical test'}], 'treatments': [{'name': 'Treatment or medication prescribed to the patient', 'related condition': 'Medical condition that the treatment is prescribed for', 'dosage': 'Amount or strength of the treatment', 'time': 'Any temporal details about when the treatment was performed', 'frequency': 'How often the treatment is taken', 'duration': 'The length of time the patient should take the treatment', 'reason for taking': 'The medical reason for taking the treatment', 'reaction to treatment': \"Patient's reaction or response to the prescribed treatment\", 'details': 'All additional details about the treatment'}], 'discharge': {'reason': \"Reason motivating patient's discharge\", 'referral': 'Details about any referrals', 'follow up': 'Details about any follow up appointments', 'discharge summary': \"Summary of patient's discharge\"}}\n",
      "admission: [{'reason': 'Reason for admission to a care center', 'date': 'Date of first admission', 'duration': \"Length of patient's stay\", 'care center details': 'Any details of care center the patient was admitted to (e.g. oncology clinic)'}]\n"
     ]
    }
   ],
   "source": [
    "file_path = \"generation/templates/template_definitions.json\"\n",
    "\n",
    "# Open and load the JSON file\n",
    "with open(file_path, \"r\") as file:\n",
    "    template_definitions = json.load(file)\n",
    "\n",
    "print(\"template_definitions:\", template_definitions)\n",
    "print(\"admission:\", template_definitions['admission'])\n"
   ]
  },
  {
   "cell_type": "code",
   "execution_count": null,
   "metadata": {},
   "outputs": [],
   "source": []
  },
  {
   "cell_type": "code",
   "execution_count": 65,
   "metadata": {},
   "outputs": [
    {
     "name": "stdout",
     "output_type": "stream",
     "text": [
      "('visit motivation', (\"Reason for the patient's visit\", \"Reason for the patient's visit\"))\n",
      "('admission/0/reason', ('Reason for admission to a care center', 'Reason for admission to a care center'))\n",
      "('admission/0/date', ('Date of first admission', 'Date of first admission'))\n",
      "('admission/0/duration', (\"Length of patient's stay\", \"Length of patient's stay\"))\n",
      "('admission/0/care center details', ('Any details of care center the patient was admitted to (e.g. oncology clinic)', 'Any details of care center the patient was admitted to (e.g. oncology clinic)'))\n",
      "('patient information/age', (\"Patient's age\", \"Patient's age\"))\n",
      "('patient information/sex', (\"Patient's sex\", \"Patient's sex\"))\n",
      "('patient information/ethnicity', (\"Patient's ethnicity or nationality\", \"Patient's ethnicity or nationality\"))\n",
      "('patient information/weight', (\"Patient's weight\", \"Patient's weight\"))\n",
      "('patient information/height', (\"Patient's height\", \"Patient's height\"))\n",
      "('patient information/family medical history', ('Information about family medical history', 'Information about family medical history'))\n",
      "('patient information/recent travels', (\"Details about patient's recent travels\", \"Details about patient's recent travels\"))\n",
      "('patient information/socio economic context', (\"Patient's socioeconomic background\", \"Patient's socioeconomic background\"))\n",
      "('patient information/occupation', (\"Patient's occupation\", \"Patient's occupation\"))\n",
      "('patient medical history/physiological context', ('Relevant physiological history of the patient', 'Relevant physiological history of the patient'))\n",
      "('patient medical history/psychological context', ('Relevant psychological history of the patient', 'Relevant psychological history of the patient'))\n",
      "('patient medical history/vaccination history', ('History of vaccinations received by the patient', 'History of vaccinations received by the patient'))\n",
      "('patient medical history/allergies', ('Any known allergies of the patient', 'Any known allergies of the patient'))\n",
      "('patient medical history/exercise frequency', (\"Frequency of patient's exercise activity\", \"Frequency of patient's exercise activity\"))\n",
      "('patient medical history/nutrition', (\"Information about patient's nutrition\", \"Information about patient's nutrition\"))\n",
      "('patient medical history/sexual history', (\"Relevant details about patient's sexual history\", \"Relevant details about patient's sexual history\"))\n",
      "('patient medical history/alcohol consumption', (\"Patient's alcohol consumption habits\", \"Patient's alcohol consumption habits\"))\n",
      "('patient medical history/drug usage', ('Information about any recreative drugs used by patient', 'Information about any recreative drugs used by patient'))\n",
      "('patient medical history/smoking status', (\"Patient's smoking status\", \"Patient's smoking status\"))\n",
      "('surgeries/0/reason', ('Reason for surgery', 'Reason for surgery'))\n",
      "('surgeries/0/Type', ('Type of surgery performed', 'Type of surgery performed'))\n",
      "('surgeries/0/time', ('Time of surgery', 'Time of surgery'))\n",
      "('surgeries/0/outcome', ('Outcome of surgery', 'Outcome of surgery'))\n",
      "('surgeries/0/details', ('Details about the surgery', 'Details about the surgery'))\n",
      "('symptoms/0/name of symptom', ('Specific symptom experienced by the patient', 'Specific symptom experienced by the patient'))\n",
      "('symptoms/0/intensity of symptom', ('Severity or intensity of the symptom', 'Severity or intensity of the symptom'))\n",
      "('symptoms/0/location', ('Where the symptom is localized', 'Where the symptom is localized'))\n",
      "('symptoms/0/time', ('Any temporal details about when the symtom appears', 'Any temporal details about when the symtom appears'))\n",
      "('symptoms/0/temporalisation', ('Any specific timing patterns associated with the symptom', 'Any specific timing patterns associated with the symptom'))\n",
      "('symptoms/0/behaviours affecting the symptom', (\"Activities or actions that influence the symptom's severity or occurrence.\", \"Activities or actions that influence the symptom's severity or occurrence.\"))\n",
      "('symptoms/0/details', ('All additional details about the symptom', 'All additional details about the symptom'))\n",
      "('medical examinations/0/name', ('name of medical examination performed', 'name of medical examination performed'))\n",
      "('medical examinations/0/result', ('Result or measurement of the physical examination', 'Result or measurement of the physical examination'))\n",
      "('medical examinations/0/details', ('All additional details about the physical examination', 'All additional details about the physical examination'))\n",
      "('diagnosis tests/0/test', ('Name of medical test performed to diagnose the condition', 'Name of medical test performed to diagnose the condition'))\n",
      "('diagnosis tests/0/severity', ('Severity level of diagnosed condition', 'Severity level of diagnosed condition'))\n",
      "('diagnosis tests/0/result', ('Result or measurement of the medical test performed to diagnose the condition', 'Result or measurement of the medical test performed to diagnose the condition'))\n",
      "('diagnosis tests/0/condition', ('Name of medical conditions diagnosed', 'Name of medical conditions diagnosed'))\n",
      "('diagnosis tests/0/time', ('Any temporal details about when the diagnosis test was performed', 'Any temporal details about when the diagnosis test was performed'))\n",
      "('diagnosis tests/0/details', ('All additional details about the medical test', 'All additional details about the medical test'))\n",
      "('treatments/0/name', ('Treatment or medication prescribed to the patient', 'Treatment or medication prescribed to the patient'))\n",
      "('treatments/0/related condition', ('Medical condition that the treatment is prescribed for', 'Medical condition that the treatment is prescribed for'))\n",
      "('treatments/0/dosage', ('Amount or strength of the treatment', 'Amount or strength of the treatment'))\n",
      "('treatments/0/time', ('Any temporal details about when the treatment was performed', 'Any temporal details about when the treatment was performed'))\n",
      "('treatments/0/frequency', ('How often the treatment is taken', 'How often the treatment is taken'))\n",
      "('treatments/0/duration', ('The length of time the patient should take the treatment', 'The length of time the patient should take the treatment'))\n",
      "('treatments/0/reason for taking', ('The medical reason for taking the treatment', 'The medical reason for taking the treatment'))\n",
      "('treatments/0/reaction to treatment', (\"Patient's reaction or response to the prescribed treatment\", \"Patient's reaction or response to the prescribed treatment\"))\n",
      "('treatments/0/details', ('All additional details about the treatment', 'All additional details about the treatment'))\n",
      "('discharge/reason', (\"Reason motivating patient's discharge\", \"Reason motivating patient's discharge\"))\n",
      "('discharge/referral', ('Details about any referrals', 'Details about any referrals'))\n",
      "('discharge/follow up', ('Details about any follow up appointments', 'Details about any follow up appointments'))\n",
      "('discharge/discharge summary', (\"Summary of patient's discharge\", \"Summary of patient's discharge\"))\n"
     ]
    }
   ],
   "source": [
    "flat = flatten_and_match_dicts(template_definitions, template_definitions, match_score=random_score)"
   ]
  },
  {
   "cell_type": "code",
   "execution_count": null,
   "metadata": {},
   "outputs": [],
   "source": []
  }
 ],
 "metadata": {
  "kernelspec": {
   "display_name": "ClinicalNotes",
   "language": "python",
   "name": "python3"
  },
  "language_info": {
   "codemirror_mode": {
    "name": "ipython",
    "version": 3
   },
   "file_extension": ".py",
   "mimetype": "text/x-python",
   "name": "python",
   "nbconvert_exporter": "python",
   "pygments_lexer": "ipython3",
   "version": "3.11.5"
  }
 },
 "nbformat": 4,
 "nbformat_minor": 2
}
