{
 "cells": [
  {
   "cell_type": "markdown",
   "metadata": {},
   "source": [
    "## **Synthetic data generation**\n",
    "\n",
    "For our fine-tuning data, we will use the [NoteChat](https://arxiv.org/abs/2310.15959) dataset [(Huggingface link)](https://huggingface.co/datasets/akemiH/NoteChat). This dataset contains 167K pairs of real clinical notes extracted from [PMC-Patients](https://arxiv.org/abs/2202.13876) with generated patient-doctor conversations.\n",
    "\n",
    "<p align=\"center\">\n",
    "<img src=\"figures/notechat.png\" width=\"50%\">\n",
    "</p>\n",
    "\n",
    "In this notebook, we extend this dataset of pairs to triplets with GPT-3.5: \n",
    "\n",
    "\n",
    "(`clinical note`, `dialogue transcript`) $\\to$ (`clinical note`, `dialogue transcript`, `patient summary`)\n",
    "\n",
    "We extract patient summaries by prompting GPT-3.5 with a clinical note, its corresponding dialogue transcript and a comprehensive template of patient features. "
   ]
  },
  {
   "cell_type": "code",
   "execution_count": 17,
   "metadata": {},
   "outputs": [],
   "source": [
    "#!pip install -r requirements.txt\n",
    "\n",
    "from utils.chat import *\n",
    "import json\n",
    "\n",
    "%reload_ext autoreload\n",
    "%autoreload 2"
   ]
  },
  {
   "cell_type": "markdown",
   "metadata": {},
   "source": [
    "### 1. **Load NoteChat data**\n",
    "\n",
    "We first take a look at the NoteChat dataset. We load the dataset from the Huggingface library and display a few examples."
   ]
  },
  {
   "cell_type": "code",
   "execution_count": 4,
   "metadata": {},
   "outputs": [
    {
     "name": "stderr",
     "output_type": "stream",
     "text": [
      "Found cached dataset csv (/Users/abonnet/.cache/huggingface/datasets/akemiH___csv/akemiH--NoteChat-1802703932ed5ba3/0.0.0/6b34fb8fcf56f7c8ba51dc895bfa2bfbe43546f190a60fcf74bb5e8afdcc2317)\n"
     ]
    },
    {
     "data": {
      "application/vnd.jupyter.widget-view+json": {
       "model_id": "bd1df341afaa4115ad08377fe002aa9e",
       "version_major": 2,
       "version_minor": 0
      },
      "text/plain": [
       "  0%|          | 0/1 [00:00<?, ?it/s]"
      ]
     },
     "metadata": {},
     "output_type": "display_data"
    },
    {
     "data": {
      "text/html": [
       "<div>\n",
       "<style scoped>\n",
       "    .dataframe tbody tr th:only-of-type {\n",
       "        vertical-align: middle;\n",
       "    }\n",
       "\n",
       "    .dataframe tbody tr th {\n",
       "        vertical-align: top;\n",
       "    }\n",
       "\n",
       "    .dataframe thead th {\n",
       "        text-align: right;\n",
       "    }\n",
       "</style>\n",
       "<table border=\"1\" class=\"dataframe\">\n",
       "  <thead>\n",
       "    <tr style=\"text-align: right;\">\n",
       "      <th></th>\n",
       "      <th>data</th>\n",
       "      <th>conversation</th>\n",
       "    </tr>\n",
       "  </thead>\n",
       "  <tbody>\n",
       "    <tr>\n",
       "      <th>0</th>\n",
       "      <td>This 60-year-old male was hospitalized due to ...</td>\n",
       "      <td>\\nDoctor: Hi, Mr. X, I'm Dr. Y. How are you fe...</td>\n",
       "    </tr>\n",
       "    <tr>\n",
       "      <th>1</th>\n",
       "      <td>A 39-year-old man was hospitalized due to an i...</td>\n",
       "      <td>\\nDoctor: Hello, I am Dr. Smith. Can you tell ...</td>\n",
       "    </tr>\n",
       "    <tr>\n",
       "      <th>2</th>\n",
       "      <td>One week after a positive COVID-19 result this...</td>\n",
       "      <td>\\nDoctor: Good morning, how are you feeling to...</td>\n",
       "    </tr>\n",
       "    <tr>\n",
       "      <th>3</th>\n",
       "      <td>This 69-year-old male was admitted to the ICU ...</td>\n",
       "      <td>Doctor: Good morning, sir. How are you feeling...</td>\n",
       "    </tr>\n",
       "    <tr>\n",
       "      <th>4</th>\n",
       "      <td>This 57-year-old male was admitted to the ICU ...</td>\n",
       "      <td>\\nDoctor: Good morning, Mr. Patient. How are y...</td>\n",
       "    </tr>\n",
       "    <tr>\n",
       "      <th>...</th>\n",
       "      <td>...</td>\n",
       "      <td>...</td>\n",
       "    </tr>\n",
       "    <tr>\n",
       "      <th>206996</th>\n",
       "      <td>A 63-year-old woman with metastatic breast car...</td>\n",
       "      <td>Doctor: Hi, how are you feeling today?\\nPatien...</td>\n",
       "    </tr>\n",
       "    <tr>\n",
       "      <th>206997</th>\n",
       "      <td>A 6 years old, neutered male Lhasa Apso was pr...</td>\n",
       "      <td>Doctor: Hello, what brings you in today?\\nPati...</td>\n",
       "    </tr>\n",
       "    <tr>\n",
       "      <th>206998</th>\n",
       "      <td>An 8 years old, neutered male mixed breed dog ...</td>\n",
       "      <td>Doctor: Hi, how are you today?\\nPatient: I'm n...</td>\n",
       "    </tr>\n",
       "    <tr>\n",
       "      <th>206999</th>\n",
       "      <td>A 4 years old spayed female Doberman Pinscher ...</td>\n",
       "      <td>Doctor: Hello there, how are you feeling today...</td>\n",
       "    </tr>\n",
       "    <tr>\n",
       "      <th>207000</th>\n",
       "      <td>A 3 years old, neutered male, Boxer was evalua...</td>\n",
       "      <td>Doctor: Hello, how can I help you today?\\nPati...</td>\n",
       "    </tr>\n",
       "  </tbody>\n",
       "</table>\n",
       "<p>207001 rows × 2 columns</p>\n",
       "</div>"
      ],
      "text/plain": [
       "                                                     data  \\\n",
       "0       This 60-year-old male was hospitalized due to ...   \n",
       "1       A 39-year-old man was hospitalized due to an i...   \n",
       "2       One week after a positive COVID-19 result this...   \n",
       "3       This 69-year-old male was admitted to the ICU ...   \n",
       "4       This 57-year-old male was admitted to the ICU ...   \n",
       "...                                                   ...   \n",
       "206996  A 63-year-old woman with metastatic breast car...   \n",
       "206997  A 6 years old, neutered male Lhasa Apso was pr...   \n",
       "206998  An 8 years old, neutered male mixed breed dog ...   \n",
       "206999  A 4 years old spayed female Doberman Pinscher ...   \n",
       "207000  A 3 years old, neutered male, Boxer was evalua...   \n",
       "\n",
       "                                             conversation  \n",
       "0       \\nDoctor: Hi, Mr. X, I'm Dr. Y. How are you fe...  \n",
       "1       \\nDoctor: Hello, I am Dr. Smith. Can you tell ...  \n",
       "2       \\nDoctor: Good morning, how are you feeling to...  \n",
       "3       Doctor: Good morning, sir. How are you feeling...  \n",
       "4       \\nDoctor: Good morning, Mr. Patient. How are y...  \n",
       "...                                                   ...  \n",
       "206996  Doctor: Hi, how are you feeling today?\\nPatien...  \n",
       "206997  Doctor: Hello, what brings you in today?\\nPati...  \n",
       "206998  Doctor: Hi, how are you today?\\nPatient: I'm n...  \n",
       "206999  Doctor: Hello there, how are you feeling today...  \n",
       "207000  Doctor: Hello, how can I help you today?\\nPati...  \n",
       "\n",
       "[207001 rows x 2 columns]"
      ]
     },
     "execution_count": 4,
     "metadata": {},
     "output_type": "execute_result"
    }
   ],
   "source": [
    "from datasets import load_dataset\n",
    "\n",
    "dataset = load_dataset(\"akemiH/NoteChat\")\n",
    "df = dataset['train'].to_pandas()\n",
    "df"
   ]
  },
  {
   "cell_type": "code",
   "execution_count": 5,
   "metadata": {},
   "outputs": [
    {
     "name": "stdout",
     "output_type": "stream",
     "text": [
      "CLINICAL NOTE\n",
      "This 60-year-old male was hospitalized due to moderate ARDS from COVID-19 with symptoms of fever, dry cough, and dyspnea. We encountered several difficulties during physical therapy on the acute ward. First, any change of position or deep breathing triggered coughing attacks that induced oxygen desaturation and dyspnea. To avoid rapid deterioration and respiratory failure, we instructed and performed position changes very slowly and step-by-step. In this way, a position change to the 135° prone position () took around 30 minutes. This approach was well tolerated and increased oxygen saturation, for example, on day 5 with 6 L/min of oxygen from 93% to 97%. Second, we had to adapt the breathing exercises to avoid prolonged coughing and oxygen desaturation. Accordingly, we instructed the patient to stop every deep breath before the need to cough and to hold inspiration for better air distribution. In this manner, the patient performed the breathing exercises well and managed to increase his oxygen saturation. Third, the patient had difficulty maintaining sufficient oxygen saturation during physical activity. However, with close monitoring and frequent breaks, he managed to perform strength and walking exercises at a low level without any significant deoxygenation. Exercise progression was low on days 1 to 5, but then increased daily until hospital discharge to a rehabilitation clinic on day 10.\n",
      "\n",
      "\n",
      "CONVERSATION\n",
      "\n",
      "Doctor: Hi, Mr. X, I'm Dr. Y. How are you feeling today?\n",
      "Patient: Not too good, doctor. I've been feeling really sick lately.\n",
      "Doctor: I understand. Can you tell me what symptoms you're experiencing?\n",
      "Patient: Yes, I've been having a fever, a dry cough, and dyspnea.\n",
      "Doctor: I see. You were hospitalized due to moderate ARDS from COVID-19, is that correct?\n",
      "Patient: Yes, that's correct.\n",
      "Doctor: During your physical therapy, we encountered some difficulties. Can you tell me more about that?\n",
      "Patient: Yes, I had trouble with position changes and deep breathing. Every time I tried to change my position or take a deep breath, I would start coughing and it would make me really short of breath.\n",
      "Doctor: I understand. To avoid rapid deterioration and respiratory failure, we instructed you to change positions very slowly and step-by-step, right?\n",
      "Patient: Yes, that's right. It took about 30 minutes to change to the prone position.\n",
      "Doctor: And I see that this approach increased your oxygen saturation, for example, on day 5 with 6 L/min of oxygen from 93% to 97%.\n",
      "Patient: Yes, that's correct.\n",
      "Doctor: Good. We also had to adapt your breathing exercises to avoid prolonged coughing and oxygen desaturation. Can you tell me more about that?\n",
      "Patient: Yes, I was instructed to stop every deep breath before coughing and to hold my breath for better air distribution.\n",
      "Doctor: I see that you performed the breathing exercises well and managed to increase your oxygen saturation.\n",
      "Patient: Yes, I did my best.\n",
      "Doctor: You also had difficulty maintaining sufficient oxygen saturation during physical activity, is that correct?\n",
      "Patient: Yes, I did. But with close monitoring and frequent breaks, I was able to perform low-level strength and walking exercises without any significant deoxygenation.\n",
      "Doctor: I see that your exercise progression was low on days 1 to 5, but then increased daily until your hospital discharge to a rehabilitation clinic on day 10.\n",
      "Patient: Yes, that's correct.\n",
      "Doctor: Great. I'd like to keep monitoring your progress and see how you're doing. Can you keep me updated on any changes in your symptoms?\n",
      "Patient: Yes, of course, doctor.\n",
      "Doctor: Alright, let's keep in touch. If you have any questions or concerns, don't hesitate to reach out to me.\n",
      "Patient: Thank you, doctor.\n",
      "\n"
     ]
    }
   ],
   "source": [
    "note = df['data'][0]\n",
    "conversation = df['conversation'][0]  \n",
    "\n",
    "print('CLINICAL NOTE')\n",
    "print(note)\n",
    "print('\\n\\nCONVERSATION')\n",
    "print(conversation.replace('\\n\\n', '\\n'))"
   ]
  },
  {
   "cell_type": "markdown",
   "metadata": {},
   "source": [
    "### 2. **Experiment with extraction of patient summaries**\n",
    "\n",
    "\n",
    "$$\\text{Prompt} + \\text{Clinical note} + \\text{Dialogue transcript} + \\text{Template (with definitions?)} \\to \\text{Patient summary}$$\n",
    "\n",
    "- Find best template + prompt to extract patient summaries. \n",
    "- Cost analysis using token estimates. \n",
    "\n",
    "#### Extraction options\n",
    "\n",
    "We will have to test out a few options to see which one works best.\n",
    "\n",
    "- **Clinical note and/or dialogue transcript?** Dialogue is generated from clinical note, so all information contained in the dialogue should be in the clinical note --> only use clinical note?\n",
    "\n",
    "- **Zero-shot vs. One-shot?** Do we include an example of (clinical note, dialogue transcript, patient summary) in the prompt? Ideally yes, but it might not fit in the prompt. If we remove the dialogue, it might fit better. \n",
    "\n",
    "- **Template definitions?** Do we include definitions of the template in the prompt? Adding the definitions might not help, and might not fit in the prompt. "
   ]
  },
  {
   "cell_type": "code",
   "execution_count": 15,
   "metadata": {},
   "outputs": [
    {
     "name": "stdout",
     "output_type": "stream",
     "text": [
      "Given the provided clinical note and patient-doctor dialogue, extract the patient information following the template provided. \n",
      "\n",
      "If a field is not mentioned in the dialogue, simply write \"feature\": None.\n",
      "\n"
     ]
    }
   ],
   "source": [
    "# Load the extraction prompt\n",
    "instruction_path = 'generation/instructions/instructions.txt'\n",
    "with open('generation/instructions/instructions.txt', 'r') as f:\n",
    "    instructions = f.read()\n",
    "\n",
    "print(instructions)"
   ]
  },
  {
   "cell_type": "code",
   "execution_count": 12,
   "metadata": {},
   "outputs": [
    {
     "data": {
      "text/plain": [
       "{'visit motivation': '',\n",
       " 'patient information': {'age': '',\n",
       "  'gender': '',\n",
       "  'family medical history': '',\n",
       "  'recent travels': '',\n",
       "  'socio economic context': '',\n",
       "  'occupation': '',\n",
       "  'exercise frequency': '',\n",
       "  'nutrition': '',\n",
       "  'sexual history': '',\n",
       "  'alcohol consumption': '',\n",
       "  'drug usage': '',\n",
       "  'smoking status': ''},\n",
       " 'current symptoms': [{'name of symptom': '',\n",
       "   'intensity of symptom': '',\n",
       "   'location': '',\n",
       "   'when did the symptom appear': '',\n",
       "   'temporalisation': ''}],\n",
       " 'previous diagnostics': [{'name of condition': '',\n",
       "   'severity': '',\n",
       "   'prescribed treatment': '',\n",
       "   'reaction to treatment': ''}],\n",
       " 'current medication': [{'name of medication': '',\n",
       "   'dosage': '',\n",
       "   'frequency': '',\n",
       "   'duration': '',\n",
       "   'reason for taking': ''}],\n",
       " 'patient medical history': {'physiological context': '',\n",
       "  'psychological context': '',\n",
       "  'vaccination history': '',\n",
       "  'recent surgeries': '',\n",
       "  'allergies': ''},\n",
       " 'visit conclusion': {'diagnosis': '',\n",
       "  'prescribed treatment': '',\n",
       "  'other specialist to consult': ''}}"
      ]
     },
     "execution_count": 12,
     "metadata": {},
     "output_type": "execute_result"
    }
   ],
   "source": [
    "# Load the template\n",
    "with open('generation/templates/template.json', 'r') as f:\n",
    "    template = json.load(f)\n",
    "\n",
    "template"
   ]
  },
  {
   "cell_type": "code",
   "execution_count": 13,
   "metadata": {},
   "outputs": [
    {
     "data": {
      "text/plain": [
       "{'visit motivation': \"Reason for the patient's visit\",\n",
       " 'patient information': {'age': \"Patient's age\",\n",
       "  'sex': \"Patient's sex\",\n",
       "  'family medical history': 'Information about family medical history',\n",
       "  'recent travels': \"Details about patient's recent travels\",\n",
       "  'socio economic context': \"Patient's socioeconomic background\",\n",
       "  'occupation': \"Patient's occupation\",\n",
       "  'exercise frequency': \"Frequency of patient's exercise activity\",\n",
       "  'nutrition': \"Information about patient's nutrition\",\n",
       "  'sexual history': \"Relevant details about patient's sexual history\",\n",
       "  'alcohol consumption': \"Patient's alcohol consumption habits\",\n",
       "  'drug usage': 'Information about any drugs used by patient',\n",
       "  'smoking status': \"Patient's smoking status\"},\n",
       " 'current symptoms': [{'name of symptom': 'Specific symptom experienced by the patient',\n",
       "   'intensity of symptom': 'Severity or intensity of the symptom',\n",
       "   'location': 'Where the symptom is localized',\n",
       "   'when did the symptom appear': 'Time of onset for the symptom',\n",
       "   'temporalisation': 'Any specific timing patterns associated with the symptom'}],\n",
       " 'previous diagnostics': [{'name of condition': 'Previous medical conditions diagnosed',\n",
       "   'severity': 'Severity level of the diagnosed condition',\n",
       "   'prescribed treatment': 'Treatment prescribed for the condition',\n",
       "   'reaction to treatment': \"Patient's reaction or response to the prescribed treatment\"}],\n",
       " 'current medication': [{'name of medication': 'Medications currently being taken by the patient',\n",
       "   'dosage': 'Amount or strength of the medication',\n",
       "   'frequency': 'How often the medication is taken',\n",
       "   'duration': 'The length of time the patient has been taking the medication',\n",
       "   'reason for taking': 'The medical reason for taking each medication'}],\n",
       " 'patient medical history': {'physiological context': 'Relevant physiological history of the patient',\n",
       "  'psychological context': 'Relevant psychological history of the patient',\n",
       "  'vaccination history': 'History of vaccinations received by the patient',\n",
       "  'recent surgeries': 'Details about any recent surgeries undergone by the patient',\n",
       "  'allergies': 'Any known allergies of the patient'},\n",
       " 'visit conclusion': {'diagnosis': 'Final diagnosis or assessment from the visit',\n",
       "  'prescribed treatment': 'Treatment plan prescribed for the patient',\n",
       "  'other specialist to consult': 'Recommendation for consulting other specialists if needed'}}"
      ]
     },
     "execution_count": 13,
     "metadata": {},
     "output_type": "execute_result"
    }
   ],
   "source": [
    "# Load the template definitions\n",
    "with open('generation/templates/template_definitions.json', 'r') as f:\n",
    "    template_def = json.load(f)\n",
    "\n",
    "template_def"
   ]
  },
  {
   "cell_type": "code",
   "execution_count": 19,
   "metadata": {},
   "outputs": [
    {
     "name": "stdout",
     "output_type": "stream",
     "text": [
      "Please save your OpenAI API key and organization ID to keys.json\n"
     ]
    },
    {
     "name": "stderr",
     "output_type": "stream",
     "text": [
      "0it [00:00, ?it/s]\n"
     ]
    },
    {
     "ename": "TypeError",
     "evalue": "can only concatenate str (not \"dict\") to str",
     "output_type": "error",
     "traceback": [
      "\u001b[0;31m---------------------------------------------------------------------------\u001b[0m",
      "\u001b[0;31mTypeError\u001b[0m                                 Traceback (most recent call last)",
      "\u001b[1;32m/Users/abonnet/Desktop/MAKE/ClinicalNotes/generation.ipynb Cell 10\u001b[0m line \u001b[0;36m6\n\u001b[1;32m      <a href='vscode-notebook-cell:/Users/abonnet/Desktop/MAKE/ClinicalNotes/generation.ipynb#X11sZmlsZQ%3D%3D?line=2'>3</a>\u001b[0m save_path \u001b[39m=\u001b[39m \u001b[39m'\u001b[39m\u001b[39mgenerations/summaries.jsonl\u001b[39m\u001b[39m'\u001b[39m\n\u001b[1;32m      <a href='vscode-notebook-cell:/Users/abonnet/Desktop/MAKE/ClinicalNotes/generation.ipynb#X11sZmlsZQ%3D%3D?line=3'>4</a>\u001b[0m keys_path \u001b[39m=\u001b[39m \u001b[39m'\u001b[39m\u001b[39mgenerations/keys.json\u001b[39m\u001b[39m'\u001b[39m\n\u001b[0;32m----> <a href='vscode-notebook-cell:/Users/abonnet/Desktop/MAKE/ClinicalNotes/generation.ipynb#X11sZmlsZQ%3D%3D?line=5'>6</a>\u001b[0m extract(\n\u001b[1;32m      <a href='vscode-notebook-cell:/Users/abonnet/Desktop/MAKE/ClinicalNotes/generation.ipynb#X11sZmlsZQ%3D%3D?line=6'>7</a>\u001b[0m     model,\n\u001b[1;32m      <a href='vscode-notebook-cell:/Users/abonnet/Desktop/MAKE/ClinicalNotes/generation.ipynb#X11sZmlsZQ%3D%3D?line=7'>8</a>\u001b[0m     template_path,\n\u001b[1;32m      <a href='vscode-notebook-cell:/Users/abonnet/Desktop/MAKE/ClinicalNotes/generation.ipynb#X11sZmlsZQ%3D%3D?line=8'>9</a>\u001b[0m     save_path,\n\u001b[1;32m     <a href='vscode-notebook-cell:/Users/abonnet/Desktop/MAKE/ClinicalNotes/generation.ipynb#X11sZmlsZQ%3D%3D?line=9'>10</a>\u001b[0m     keys_path,\n\u001b[1;32m     <a href='vscode-notebook-cell:/Users/abonnet/Desktop/MAKE/ClinicalNotes/generation.ipynb#X11sZmlsZQ%3D%3D?line=10'>11</a>\u001b[0m     dataframe\u001b[39m=\u001b[39;49mdf,\n\u001b[1;32m     <a href='vscode-notebook-cell:/Users/abonnet/Desktop/MAKE/ClinicalNotes/generation.ipynb#X11sZmlsZQ%3D%3D?line=11'>12</a>\u001b[0m     use_notes\u001b[39m=\u001b[39;49m\u001b[39mTrue\u001b[39;49;00m, \n\u001b[1;32m     <a href='vscode-notebook-cell:/Users/abonnet/Desktop/MAKE/ClinicalNotes/generation.ipynb#X11sZmlsZQ%3D%3D?line=12'>13</a>\u001b[0m     use_dialogues\u001b[39m=\u001b[39;49m\u001b[39mTrue\u001b[39;49;00m)\n",
      "File \u001b[0;32m~/Desktop/MAKE/ClinicalNotes/utils/chat.py:350\u001b[0m, in \u001b[0;36mextract\u001b[0;34m(model, template_path, save_path, keys_path, dataframe, use_notes, use_dialogues)\u001b[0m\n\u001b[1;32m    348\u001b[0m note \u001b[39m=\u001b[39m row[\u001b[39m'\u001b[39m\u001b[39mdata\u001b[39m\u001b[39m'\u001b[39m] \u001b[39mif\u001b[39;00m use_notes \u001b[39melse\u001b[39;00m \u001b[39mNone\u001b[39;00m\n\u001b[1;32m    349\u001b[0m dialogue \u001b[39m=\u001b[39m row[\u001b[39m'\u001b[39m\u001b[39mconversation\u001b[39m\u001b[39m'\u001b[39m] \u001b[39mif\u001b[39;00m use_dialogues \u001b[39melse\u001b[39;00m \u001b[39mNone\u001b[39;00m\n\u001b[0;32m--> 350\u001b[0m sys_prompt, usr_prompt \u001b[39m=\u001b[39m make_prompts(\n\u001b[1;32m    351\u001b[0m     instruction\u001b[39m=\u001b[39;49minstruction,\n\u001b[1;32m    352\u001b[0m     note\u001b[39m=\u001b[39;49mnote,\n\u001b[1;32m    353\u001b[0m     dialogue\u001b[39m=\u001b[39;49mdialogue,\n\u001b[1;32m    354\u001b[0m     template\u001b[39m=\u001b[39;49mtemplate,\n\u001b[1;32m    355\u001b[0m )\n\u001b[1;32m    356\u001b[0m \u001b[39mprint\u001b[39m(\u001b[39m'\u001b[39m\u001b[39mSystem prompt:\u001b[39m\u001b[39m'\u001b[39m, sys_prompt, \u001b[39m'\u001b[39m\u001b[39m\\n\u001b[39;00m\u001b[39mUser prompt:\u001b[39m\u001b[39m'\u001b[39m, usr_prompt) \u001b[39m# TEST\u001b[39;00m\n\u001b[1;32m    358\u001b[0m \u001b[39m# Extract the summary using OpenAI model\u001b[39;00m\n",
      "File \u001b[0;32m~/Desktop/MAKE/ClinicalNotes/utils/chat.py:304\u001b[0m, in \u001b[0;36mmake_prompts\u001b[0;34m(instruction, note, dialogue, template, nshot)\u001b[0m\n\u001b[1;32m    302\u001b[0m sys_prompt \u001b[39m+\u001b[39m\u001b[39m=\u001b[39m \u001b[39m\"\u001b[39m\u001b[39m\\n\u001b[39;00m\u001b[39m\\n\u001b[39;00m\u001b[39mPatient Information Template:\u001b[39m\u001b[39m\\n\u001b[39;00m\u001b[39m\"\u001b[39m\n\u001b[1;32m    303\u001b[0m \u001b[39mif\u001b[39;00m template \u001b[39mis\u001b[39;00m \u001b[39mnot\u001b[39;00m \u001b[39mNone\u001b[39;00m:\n\u001b[0;32m--> 304\u001b[0m     sys_prompt \u001b[39m+\u001b[39m\u001b[39m=\u001b[39m template\n\u001b[1;32m    305\u001b[0m usr_prompt \u001b[39m=\u001b[39m \u001b[39m\"\u001b[39m\u001b[39mNow fill in the patient information following the template provided.\u001b[39m\u001b[39m\\n\u001b[39;00m\u001b[39mIf a field is not mentioned in the dialogue, simply write \u001b[39m\u001b[39m\\\"\u001b[39;00m\u001b[39mfeature\u001b[39m\u001b[39m\\\"\u001b[39;00m\u001b[39m: None.\u001b[39m\u001b[39m\"\u001b[39m\n\u001b[1;32m    306\u001b[0m \u001b[39mreturn\u001b[39;00m sys_prompt, usr_prompt\n",
      "\u001b[0;31mTypeError\u001b[0m: can only concatenate str (not \"dict\") to str"
     ]
    }
   ],
   "source": [
    "model = 'gpt-4'\n",
    "template_path = 'generation/templates/template_definitions.json'\n",
    "save_path = 'generations/summaries.jsonl'\n",
    "keys_path = 'generations/keys.json'\n",
    "\n",
    "extract(\n",
    "    model,\n",
    "    template_path,\n",
    "    save_path,\n",
    "    keys_path,\n",
    "    dataframe=df,\n",
    "    use_notes=True, \n",
    "    use_dialogues=True)"
   ]
  },
  {
   "cell_type": "markdown",
   "metadata": {},
   "source": [
    "### 3. **Generate triplets**\n",
    "\n",
    "Once we have a good template, we generate triplets for the whole dataset.\n"
   ]
  },
  {
   "cell_type": "code",
   "execution_count": null,
   "metadata": {},
   "outputs": [],
   "source": [
    "def structured_data_formatting(ans :  str) -> str: \n",
    "    ''' Process chat's answer into json-ish format we want '''\n",
    "    pass \n",
    "\n",
    "system_prompt = \"\"\n",
    "dialogues = ...\n",
    "\n",
    "messages_list_list = [build_messages(system_prompt= system_prompt, built_user_prompt= dialogue) for dialogue in dialogues]\n",
    "\n",
    "answers = generate_answers(messages_list= messages_list,\n",
    "                           max_tokens= 40000, #check our rate limit somewhere\n",
    "                           formating= structured_data_formatting,\n",
    "                           chat=chat_gpt_4_turbo ,\n",
    "                           model = \"gpt-4-1106-preview\",\n",
    "                           temperature= 0.5)"
   ]
  },
  {
   "cell_type": "code",
   "execution_count": null,
   "metadata": {},
   "outputs": [],
   "source": []
  }
 ],
 "metadata": {
  "kernelspec": {
   "display_name": "Python 3",
   "language": "python",
   "name": "python3"
  },
  "language_info": {
   "codemirror_mode": {
    "name": "ipython",
    "version": 3
   },
   "file_extension": ".py",
   "mimetype": "text/x-python",
   "name": "python",
   "nbconvert_exporter": "python",
   "pygments_lexer": "ipython3",
   "version": "3.9.18"
  }
 },
 "nbformat": 4,
 "nbformat_minor": 2
}
