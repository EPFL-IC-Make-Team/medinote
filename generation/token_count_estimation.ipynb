{
 "cells": [
  {
   "cell_type": "code",
   "execution_count": 6,
   "metadata": {},
   "outputs": [],
   "source": [
    "import pandas as pd\n",
    "import seaborn as sns\n",
    "import matplotlib.pyplot as plt\n",
    "import numpy as np\n"
   ]
  },
  {
   "cell_type": "code",
   "execution_count": 4,
   "metadata": {},
   "outputs": [
    {
     "name": "stdout",
     "output_type": "stream",
     "text": [
      "['icliniq_dialogue.txt', 'healthcaremagic_dialogue_1.txt', 'healthcaremagic_dialogue_4.txt', 'healthcaremagic_dialogue_3.txt', 'healthcaremagic_dialogue_2.txt']\n",
      "Dialogue dataset files downloaded from the Drive:\n"
     ]
    }
   ],
   "source": [
    "import re\n",
    "import os \n",
    "print(os.listdir(\"../MedicalDialogue/\"))\n",
    "pattern = re.compile(r\"Dialogue\\n([\\s\\S]*?)\\nid\")\n",
    "samples = []\n",
    "for filename in os.listdir(\"../MedicalDialogue/\"):\n",
    "    if \".txt\" in filename :\n",
    "        with open(os.path.join(\"../MedicalDialogue/\",filename),\"r\") as file:\n",
    "\n",
    "            text = file.read()\n",
    "\n",
    "            matches = pattern.findall(text)\n",
    "            samples.append(matches)\n",
    "\n",
    "print(\"Dialogue dataset files downloaded from the Drive:\")\n",
    "samples = [sample for match in samples for sample in match]"
   ]
  },
  {
   "cell_type": "code",
   "execution_count": 5,
   "metadata": {},
   "outputs": [
    {
     "name": "stdout",
     "output_type": "stream",
     "text": [
      "Number of dialogues: 257464\n",
      "CSV file 'medDialog.csv' has been created.\n"
     ]
    }
   ],
   "source": [
    "print(f\"Number of dialogues: {len(samples)}\")\n",
    "import csv\n",
    "def list_to_csv(data_list, csv_filename):\n",
    "    with open(csv_filename, 'w', newline='') as csv_file:\n",
    "        csv_writer = csv.writer(csv_file)\n",
    "        csv_writer.writerows(data_list)\n",
    "\n",
    "csv_filename = 'medDialog.csv'\n",
    "list_to_csv(samples, csv_filename)\n",
    "\n",
    "print(f\"CSV file '{csv_filename}' has been created.\")\n"
   ]
  },
  {
   "cell_type": "code",
   "execution_count": 9,
   "metadata": {},
   "outputs": [
    {
     "name": "stdout",
     "output_type": "stream",
     "text": [
      "Total number of tokens in dialogue datasets 58640236:\n"
     ]
    }
   ],
   "source": [
    "#!python -m pip install tiktoken\n",
    "import tiktoken\n",
    "enc = tiktoken.get_encoding(\"cl100k_base\")\n",
    "assert enc.decode(enc.encode(\"hello world\")) == \"hello world\"\n",
    "\n",
    "# To get the tokeniser corresponding to a specific model in the OpenAI API:\n",
    "enc = tiktoken.encoding_for_model(\"gpt-4\")\n",
    "sizes = [len(enc.encode(sample)) for sample in samples]\n",
    "token_size = np.sum(np.array(sizes))\n",
    "print(f\"Total number of tokens in dialogue datasets: {token_size}.\")\n"
   ]
  },
  {
   "cell_type": "code",
   "execution_count": 10,
   "metadata": {},
   "outputs": [
    {
     "name": "stdout",
     "output_type": "stream",
     "text": [
      "Total number of tokens in dialogue datasets: 957669.\n"
     ]
    }
   ],
   "source": [
    "#Discussion with Paul: may its better to keep only the longest ones.\n",
    "\n",
    "sorted_samples = sorted(samples, key=len, reverse=True)[0:1000]\n",
    "sizes = [len(enc.encode(sample)) for sample in sorted_samples]\n",
    "token_size = np.sum(np.array(sizes))\n",
    "print(f\"Total number of tokens in dialogue datasets: {token_size}.\")"
   ]
  },
  {
   "cell_type": "code",
   "execution_count": null,
   "metadata": {},
   "outputs": [],
   "source": []
  }
 ],
 "metadata": {
  "kernelspec": {
   "display_name": "earthobs",
   "language": "python",
   "name": "python3"
  },
  "language_info": {
   "codemirror_mode": {
    "name": "ipython",
    "version": 3
   },
   "file_extension": ".py",
   "mimetype": "text/x-python",
   "name": "python",
   "nbconvert_exporter": "python",
   "pygments_lexer": "ipython3",
   "version": "3.10.9"
  },
  "orig_nbformat": 4
 },
 "nbformat": 4,
 "nbformat_minor": 2
}
