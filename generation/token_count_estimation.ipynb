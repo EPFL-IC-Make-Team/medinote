{
 "cells": [
  {
   "cell_type": "code",
   "execution_count": null,
   "metadata": {},
   "outputs": [],
   "source": [
    "!pip install pandas\n",
    "import pandas as pd\n",
    "import seaborn as sns\n",
    "import matplotlib.pyplot as plt\n",
    "import numpy as np\n"
   ]
  },
  {
   "cell_type": "code",
   "execution_count": 4,
   "metadata": {},
   "outputs": [
    {
     "name": "stdout",
     "output_type": "stream",
     "text": [
      "['icliniq_dialogue.txt', 'healthcaremagic_dialogue_1.txt', 'healthcaremagic_dialogue_4.txt', 'healthcaremagic_dialogue_3.txt', 'healthcaremagic_dialogue_2.txt']\n",
      "Dialogue dataset files downloaded from the Drive:\n"
     ]
    }
   ],
   "source": [
    "import re\n",
    "import os \n",
    "print(os.listdir(\"../MedicalDialogue/\"))\n",
    "pattern = re.compile(r\"Dialogue\\n([\\s\\S]*?)\\nid\")\n",
    "samples = []\n",
    "for filename in os.listdir(\"../MedicalDialogue/\"):\n",
    "    if \".txt\" in filename :\n",
    "        with open(os.path.join(\"../MedicalDialogue/\",filename),\"r\") as file:\n",
    "\n",
    "            text = file.read()\n",
    "\n",
    "            matches = pattern.findall(text)\n",
    "            samples.append(matches)\n",
    "\n",
    "print(\"Dialogue dataset files downloaded from the Drive:\")\n",
    "samples = [sample for match in samples for sample in match]"
   ]
  },
  {
   "cell_type": "code",
   "execution_count": 5,
   "metadata": {},
   "outputs": [
    {
     "name": "stdout",
     "output_type": "stream",
     "text": [
      "Number of dialogues: 257464\n",
      "CSV file 'medDialog.csv' has been created.\n"
     ]
    }
   ],
   "source": [
    "print(f\"Number of dialogues: {len(samples)}\")\n",
    "import csv\n",
    "def list_to_csv(data_list, csv_filename):\n",
    "    with open(csv_filename, 'w', newline='') as csv_file:\n",
    "        csv_writer = csv.writer(csv_file)\n",
    "        csv_writer.writerows(data_list)\n",
    "\n",
    "csv_filename = 'medDialog.csv'\n",
    "list_to_csv(samples, csv_filename)\n",
    "\n",
    "print(f\"CSV file '{csv_filename}' has been created.\")\n"
   ]
  },
  {
   "cell_type": "code",
   "execution_count": 4,
   "metadata": {},
   "outputs": [
    {
     "name": "stdout",
     "output_type": "stream",
     "text": [
      "Collecting tiktoken\n",
      "  Downloading tiktoken-0.5.1-cp310-cp310-macosx_10_9_x86_64.whl.metadata (6.6 kB)\n",
      "Requirement already satisfied: regex>=2022.1.18 in /usr/local/lib/python3.10/site-packages (from tiktoken) (2023.5.5)\n",
      "Requirement already satisfied: requests>=2.26.0 in /usr/local/lib/python3.10/site-packages (from tiktoken) (2.31.0)\n",
      "Requirement already satisfied: charset-normalizer<4,>=2 in /usr/local/lib/python3.10/site-packages (from requests>=2.26.0->tiktoken) (3.1.0)\n",
      "Requirement already satisfied: idna<4,>=2.5 in /usr/local/lib/python3.10/site-packages (from requests>=2.26.0->tiktoken) (3.4)\n",
      "Requirement already satisfied: urllib3<3,>=1.21.1 in /usr/local/lib/python3.10/site-packages (from requests>=2.26.0->tiktoken) (1.26.15)\n",
      "Requirement already satisfied: certifi>=2017.4.17 in /usr/local/lib/python3.10/site-packages (from requests>=2.26.0->tiktoken) (2022.12.7)\n",
      "Downloading tiktoken-0.5.1-cp310-cp310-macosx_10_9_x86_64.whl (953 kB)\n",
      "\u001b[2K   \u001b[90m━━━━━━━━━━━━━━━━━━━━━━━━━━━━━━━━━━━━━━━━\u001b[0m \u001b[32m953.5/953.5 kB\u001b[0m \u001b[31m2.7 MB/s\u001b[0m eta \u001b[36m0:00:00\u001b[0m00:01\u001b[0m00:01\u001b[0mm\n",
      "\u001b[?25hInstalling collected packages: tiktoken\n",
      "Successfully installed tiktoken-0.5.1\n"
     ]
    },
    {
     "ename": "ModuleNotFoundError",
     "evalue": "No module named 'tiktoken'",
     "output_type": "error",
     "traceback": [
      "\u001b[0;31m---------------------------------------------------------------------------\u001b[0m",
      "\u001b[0;31mModuleNotFoundError\u001b[0m                       Traceback (most recent call last)",
      "\u001b[1;32m/Users/paul/Desktop/ClinicalNotes/generation/token_count_estimation.ipynb Cellule 4\u001b[0m line \u001b[0;36m2\n\u001b[1;32m      <a href='vscode-notebook-cell:/Users/paul/Desktop/ClinicalNotes/generation/token_count_estimation.ipynb#W6sZmlsZQ%3D%3D?line=0'>1</a>\u001b[0m get_ipython()\u001b[39m.\u001b[39msystem(\u001b[39m'\u001b[39m\u001b[39mpip install tiktoken\u001b[39m\u001b[39m'\u001b[39m)\n\u001b[0;32m----> <a href='vscode-notebook-cell:/Users/paul/Desktop/ClinicalNotes/generation/token_count_estimation.ipynb#W6sZmlsZQ%3D%3D?line=1'>2</a>\u001b[0m \u001b[39mimport\u001b[39;00m \u001b[39mtiktoken\u001b[39;00m\n\u001b[1;32m      <a href='vscode-notebook-cell:/Users/paul/Desktop/ClinicalNotes/generation/token_count_estimation.ipynb#W6sZmlsZQ%3D%3D?line=2'>3</a>\u001b[0m enc \u001b[39m=\u001b[39m tiktoken\u001b[39m.\u001b[39mget_encoding(\u001b[39m\"\u001b[39m\u001b[39mcl100k_base\u001b[39m\u001b[39m\"\u001b[39m)\n\u001b[1;32m      <a href='vscode-notebook-cell:/Users/paul/Desktop/ClinicalNotes/generation/token_count_estimation.ipynb#W6sZmlsZQ%3D%3D?line=3'>4</a>\u001b[0m \u001b[39mwith\u001b[39;00m \u001b[39mopen\u001b[39m(\u001b[39m'\u001b[39m\u001b[39mtemplates/test.txt\u001b[39m\u001b[39m'\u001b[39m, \u001b[39m'\u001b[39m\u001b[39mr\u001b[39m\u001b[39m'\u001b[39m) \u001b[39mas\u001b[39;00m f: \n",
      "\u001b[0;31mModuleNotFoundError\u001b[0m: No module named 'tiktoken'"
     ]
    }
   ],
   "source": [
    "!pip install tiktoken\n",
    "import tiktoken\n",
    "enc = tiktoken.get_encoding(\"cl100k_base\")\n",
    "with open('templates/test.txt', 'r') as f: \n",
    "    str = f.read()\n",
    "token_size = len(enc.encode(str))\n",
    "print(f\"Token size: {token_size}\")\n",
    "\n",
    "\n",
    "\n"
   ]
  },
  {
   "cell_type": "code",
   "execution_count": 9,
   "metadata": {},
   "outputs": [
    {
     "name": "stdout",
     "output_type": "stream",
     "text": [
      "Total number of tokens in dialogue datasets 58640236:\n"
     ]
    }
   ],
   "source": [
    "#!python -m pip install tiktoken\n",
    "import tiktoken\n",
    "enc = tiktoken.get_encoding(\"cl100k_base\")\n",
    "assert enc.decode(enc.encode(\"hello world\")) == \"hello world\"\n",
    "\n",
    "# To get the tokeniser corresponding to a specific model in the OpenAI API:\n",
    "enc = tiktoken.encoding_for_model(\"gpt-4\")\n",
    "sizes = [len(enc.encode(sample)) for sample in samples]\n",
    "token_size = np.sum(np.array(sizes))\n",
    "print(f\"Total number of tokens in dialogue datasets: {token_size}.\")\n"
   ]
  },
  {
   "cell_type": "code",
   "execution_count": 10,
   "metadata": {},
   "outputs": [
    {
     "name": "stdout",
     "output_type": "stream",
     "text": [
      "Total number of tokens in dialogue datasets: 957669.\n"
     ]
    }
   ],
   "source": [
    "#Discussion with Paul: may its better to keep only the longest ones.\n",
    "\n",
    "sorted_samples = sorted(samples, key=len, reverse=True)[0:1000]\n",
    "sizes = [len(enc.encode(sample)) for sample in sorted_samples]\n",
    "token_size = np.sum(np.array(sizes))\n",
    "print(f\"Total number of tokens in dialogue datasets: {token_size}.\")"
   ]
  },
  {
   "cell_type": "code",
   "execution_count": null,
   "metadata": {},
   "outputs": [],
   "source": []
  }
 ],
 "metadata": {
  "kernelspec": {
   "display_name": "earthobs",
   "language": "python",
   "name": "python3"
  },
  "language_info": {
   "codemirror_mode": {
    "name": "ipython",
    "version": 3
   },
   "file_extension": ".py",
   "mimetype": "text/x-python",
   "name": "python",
   "nbconvert_exporter": "python",
   "pygments_lexer": "ipython3",
   "version": "3.11.4"
  },
  "orig_nbformat": 4
 },
 "nbformat": 4,
 "nbformat_minor": 2
}
