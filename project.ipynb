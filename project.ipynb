{
 "cells": [
  {
   "cell_type": "markdown",
   "metadata": {},
   "source": [
    "# **Clinical note generation**\n",
    "\n",
    "Our project aims to automate the process of writing clinical notes. Clinical notes are a summary of the patient-doctor interaction and are generally written by the doctor after the consultation. They are used for billing, communication between doctors, and as a reminder of the patient's history.\n",
    "\n",
    "\n",
    "Patient-doctor consultations are recorded as audio, which would be converted into a textual transcript by an out-of-the-box dialogue-based Speech-To-Text model, e.g. [Google Cloud API](https://cloud.google.com/speech-to-text/docs/multiple-voices).\n",
    "\n",
    "\n",
    "Smaller models such as Meditron-7B [(Huggingface link)](https://huggingface.co/epfl-llm/meditron-7b) probably do not have the capacity to generate a clinical note directly from a dialogue transcript because it involves two separate complex tasks: \n",
    "\n",
    "1. **Summarize**: From the dialogue transcript, extract relevant features to create a patient summary, outlining the patient's medical history, current symptoms, and the doctor's diagnosis. \n",
    "2. **Generate**: From the patient summary and samples of the clinician's own notes, generate the clinical note.\n",
    "\n",
    "\n",
    "We therefore break this stage into two language models, each fine-tuned for a specific task.\n",
    "The combined model then generates the clinical note from the dialogue transcript in 2 steps.\n",
    "\n",
    "<p align=\"center\">\n",
    "<img src=\"figures/pipeline.png\" width=\"70%\">\n",
    "</p>"
   ]
  },
  {
   "cell_type": "code",
   "execution_count": 1,
   "metadata": {},
   "outputs": [],
   "source": [
    "#!pip install -r requirements.txt\n",
    "\n",
    "from utils.chat import *\n",
    "from utils.eval import *    \n",
    "#from utils.inference import *\n",
    "\n",
    "import os\n",
    "import re\n",
    "from datasets import load_dataset\n",
    "import matplotlib.pyplot as plt\n",
    "\n",
    "%reload_ext autoreload\n",
    "%autoreload 2"
   ]
  },
  {
   "cell_type": "markdown",
   "metadata": {},
   "source": [
    "\n",
    "## 1. **Synthetic patient summaries**\n",
    "\n",
    "For our fine-tuning data, we will use the [NoteChat](https://arxiv.org/abs/2310.15959) dataset [(Huggingface link)](https://huggingface.co/datasets/akemiH/NoteChat). This dataset contains 167K pairs of real clinical notes extracted from [PMC-Patients](https://arxiv.org/abs/2202.13876) with generated patient-doctor conversations.\n",
    "\n",
    "<p align=\"center\">\n",
    "<img src=\"figures/notechat.png\" width=\"50%\">\n",
    "</p>\n",
    "\n",
    "We extend this dataset of pairs to triplets with GPT-3.5: \n",
    "\n",
    "(`clinical note`, `dialogue transcript`) $\\to$ (`clinical note`, `dialogue transcript`, `patient summary`)\n",
    "\n",
    "We extract patient summaries by prompting GPT-3.5 with a clinical note, its corresponding dialogue transcript and a comprehensive template of patient features. \n",
    "\n",
    "### 1.1. **Load NoteChat data**\n",
    "\n",
    "We first take a look at the NoteChat dataset. We load the dataset from the Huggingface library and display a few examples."
   ]
  },
  {
   "cell_type": "code",
   "execution_count": 34,
   "metadata": {},
   "outputs": [
    {
     "data": {
      "text/html": [
       "<div>\n",
       "<style scoped>\n",
       "    .dataframe tbody tr th:only-of-type {\n",
       "        vertical-align: middle;\n",
       "    }\n",
       "\n",
       "    .dataframe tbody tr th {\n",
       "        vertical-align: top;\n",
       "    }\n",
       "\n",
       "    .dataframe thead th {\n",
       "        text-align: right;\n",
       "    }\n",
       "</style>\n",
       "<table border=\"1\" class=\"dataframe\">\n",
       "  <thead>\n",
       "    <tr style=\"text-align: right;\">\n",
       "      <th></th>\n",
       "      <th>note</th>\n",
       "      <th>conversation</th>\n",
       "    </tr>\n",
       "  </thead>\n",
       "  <tbody>\n",
       "    <tr>\n",
       "      <th>163999</th>\n",
       "      <td>“Z,” a 14-year-old girl, was referred to our c...</td>\n",
       "      <td>Doctor: Hello, Z. I'm Dr. X, and I'll be your ...</td>\n",
       "    </tr>\n",
       "    <tr>\n",
       "      <th>66442</th>\n",
       "      <td>“Theresa” was a widowed, White British woman i...</td>\n",
       "      <td>\\nDoctor: Hi Theresa, how are you today?\\n\\nTh...</td>\n",
       "    </tr>\n",
       "    <tr>\n",
       "      <th>33502</th>\n",
       "      <td>“Sami Rami” is a 5-year and 8-month-old boy fr...</td>\n",
       "      <td>\\nDoctor: Hi, I’m Dr. X. How are you doing tod...</td>\n",
       "    </tr>\n",
       "    <tr>\n",
       "      <th>70760</th>\n",
       "      <td>“Mr. L” was a 54-year-old single, jobless man....</td>\n",
       "      <td>\\nDoctor: Hello Mr. L, I am Dr. X. How are you...</td>\n",
       "    </tr>\n",
       "    <tr>\n",
       "      <th>50554</th>\n",
       "      <td>“Mr. D” is a 42-year-old man, presently living...</td>\n",
       "      <td>Doctor: Hello Mr. D, I'm Dr. X. How are you fe...</td>\n",
       "    </tr>\n",
       "  </tbody>\n",
       "</table>\n",
       "</div>"
      ],
      "text/plain": [
       "                                                     note  \\\n",
       "163999  “Z,” a 14-year-old girl, was referred to our c...   \n",
       "66442   “Theresa” was a widowed, White British woman i...   \n",
       "33502   “Sami Rami” is a 5-year and 8-month-old boy fr...   \n",
       "70760   “Mr. L” was a 54-year-old single, jobless man....   \n",
       "50554   “Mr. D” is a 42-year-old man, presently living...   \n",
       "\n",
       "                                             conversation  \n",
       "163999  Doctor: Hello, Z. I'm Dr. X, and I'll be your ...  \n",
       "66442   \\nDoctor: Hi Theresa, how are you today?\\n\\nTh...  \n",
       "33502   \\nDoctor: Hi, I’m Dr. X. How are you doing tod...  \n",
       "70760   \\nDoctor: Hello Mr. L, I am Dr. X. How are you...  \n",
       "50554   Doctor: Hello Mr. D, I'm Dr. X. How are you fe...  "
      ]
     },
     "execution_count": 34,
     "metadata": {},
     "output_type": "execute_result"
    }
   ],
   "source": [
    "notechat_path = 'data/NoteChat.jsonl'\n",
    "\n",
    "if not os.path.exists(notechat_path):\n",
    "    notechat = load_dataset(\"akemiH/NoteChat\")['train'].to_pandas()\n",
    "    notechat.to_json(notechat_path, orient='records', lines=True)\n",
    "else:\n",
    "    notechat = pd.read_json(notechat_path, orient='records', lines=True)\n",
    "\n",
    "notechat.rename(columns={'data': 'note'}, inplace=True)\n",
    "notechat = notechat.sort_values(by=['note'], ascending=False)\n",
    "\n",
    "notechat.head()\n"
   ]
  },
  {
   "cell_type": "markdown",
   "metadata": {},
   "source": [
    "Here's an example!"
   ]
  },
  {
   "cell_type": "code",
   "execution_count": 35,
   "metadata": {},
   "outputs": [
    {
     "name": "stdout",
     "output_type": "stream",
     "text": [
      "CLINICAL NOTE\n",
      "This 60-year-old male was hospitalized due to moderate ARDS from COVID-19 with symptoms of fever, dry cough, and dyspnea.\n",
      "We encountered several difficulties during physical therapy on the acute ward.\n",
      "First, any change of position or deep breathing triggered coughing attacks that induced oxygen desaturation and dyspnea.\n",
      "To avoid rapid deterioration and respiratory failure, we instructed and performed position changes very slowly and step-by-step.\n",
      "In this way, a position change to the 135° prone position () took around 30 minutes.\n",
      "This approach was well tolerated and increased oxygen saturation, for example, on day 5 with 6 L/min of oxygen from 93% to 97%.\n",
      "Second, we had to adapt the breathing exercises to avoid prolonged coughing and oxygen desaturation.\n",
      "Accordingly, we instructed the patient to stop every deep breath before the need to cough and to hold inspiration for better air distribution.\n",
      "In this manner, the patient performed the breathing exercises well and managed to increase his oxygen saturation.\n",
      "Third, the patient had difficulty maintaining sufficient oxygen saturation during physical activity.\n",
      "However, with close monitoring and frequent breaks, he managed to perform strength and walking exercises at a low level without any significant deoxygenation.\n",
      "Exercise progression was low on days 1 to 5, but then increased daily until hospital discharge to a rehabilitation clinic on day 10.\n",
      "\n",
      "\n",
      "CONVERSATION\n",
      "Doctor: Hi, Mr. X, I'm Dr. Y. How are you feeling today?\n",
      "Patient: Not too good, doctor. I've been feeling really sick lately.\n",
      "Doctor: I understand. Can you tell me what symptoms you're experiencing?\n",
      "Patient: Yes, I've been having a fever, a dry cough, and dyspnea.\n",
      "Doctor: I see. You were hospitalized due to moderate ARDS from COVID-19, is that correct?\n",
      "Patient: Yes, that's correct.\n",
      "Doctor: During your physical therapy, we encountered some difficulties. Can you tell me more about that?\n",
      "Patient: Yes, I had trouble with position changes and deep breathing. Every time I tried to change my position or take a deep breath, I would start coughing and it would make me really short of breath.\n",
      "Doctor: I understand. To avoid rapid deterioration and respiratory failure, we instructed you to change positions very slowly and step-by-step, right?\n",
      "Patient: Yes, that's right. It took about 30 minutes to change to the prone position.\n",
      "Doctor: And I see that this approach increased your oxygen saturation, for example, on day 5 with 6 L/min of oxygen from 93% to 97%.\n",
      "Patient: Yes, that's correct.\n",
      "Doctor: Good. We also had to adapt your breathing exercises to avoid prolonged coughing and oxygen desaturation. Can you tell me more about that?\n",
      "Patient: Yes, I was instructed to stop every deep breath before coughing and to hold my breath for better air distribution.\n",
      "Doctor: I see that you performed the breathing exercises well and managed to increase your oxygen saturation.\n",
      "Patient: Yes, I did my best.\n",
      "Doctor: You also had difficulty maintaining sufficient oxygen saturation during physical activity, is that correct?\n",
      "Patient: Yes, I did. But with close monitoring and frequent breaks, I was able to perform low-level strength and walking exercises without any significant deoxygenation.\n",
      "Doctor: I see that your exercise progression was low on days 1 to 5, but then increased daily until your hospital discharge to a rehabilitation clinic on day 10.\n",
      "Patient: Yes, that's correct.\n",
      "Doctor: Great. I'd like to keep monitoring your progress and see how you're doing. Can you keep me updated on any changes in your symptoms?\n",
      "Patient: Yes, of course, doctor.\n",
      "Doctor: Alright, let's keep in touch. If you have any questions or concerns, don't hesitate to reach out to me.\n",
      "Patient: Thank you, doctor.\n"
     ]
    }
   ],
   "source": [
    "note = notechat['note'][0].replace('. ', '.\\n')\n",
    "conversation = notechat['conversation'][0].strip()  \n",
    "\n",
    "print('CLINICAL NOTE')\n",
    "print(note)\n",
    "print('\\n\\nCONVERSATION')\n",
    "print(conversation.replace('\\n\\n', '\\n'))"
   ]
  },
  {
   "cell_type": "markdown",
   "metadata": {},
   "source": [
    "### 1.2. **Experiment with extraction of patient summaries**\n",
    "\n",
    "\n",
    "$$\\text{Prompt} + \\text{Clinical note} + \\text{Template (with definitions?)} \\to \\text{Patient summary}$$\n",
    "\n",
    "We tested out a few options to see which one works best.\n",
    "\n",
    "- **Clinical note and/or dialogue transcript?** Dialogue is generated from clinical note, so all information contained in the dialogue should be in the clinical note --> only use clinical note?\n",
    "\n",
    "- **Zero-shot vs. One-shot?** Do we include an example of (clinical note, dialogue transcript, patient summary) in the prompt? Ideally yes, but it might not fit in the prompt. If we remove the dialogue, it might fit better. \n",
    "--> Zero-shot to fit into context. \n",
    "\n",
    "- **Template definitions?** Do we include definitions of the template in the prompt? Adding the definitions might not help, and might not fit in the prompt. \n",
    "\n",
    "After a few tests, we choose to generate using only clinical notes, zero-shot and using a template with definitions. \n",
    "\n",
    "#### **Extraction prompt**\n",
    "\n",
    "Here's the extraction instruction we pass to GPT-4: "
   ]
  },
  {
   "cell_type": "code",
   "execution_count": 36,
   "metadata": {},
   "outputs": [
    {
     "name": "stdout",
     "output_type": "stream",
     "text": [
      "Given the provided clinical note, extract the corresponding patient summary following the template provided. \n",
      "Make sure to extract all the information from the clinical note into the template, but do not add any new information. \n",
      "If a field is not mentioned, simply write \"feature\": None.\n"
     ]
    }
   ],
   "source": [
    "# Load the extraction prompt\n",
    "instruction_path = 'generation/instructions/extraction.txt'\n",
    "with open(instruction_path, 'r') as f:\n",
    "    instructions = f.read()\n",
    "print(instructions)"
   ]
  },
  {
   "cell_type": "markdown",
   "metadata": {},
   "source": [
    "#### **Template**\n",
    "\n",
    "We now load the template used to extract patient information. Each field is provided with a definition to help GPT-4 understand the context."
   ]
  },
  {
   "cell_type": "code",
   "execution_count": 37,
   "metadata": {},
   "outputs": [
    {
     "data": {
      "text/plain": [
       "{'visit motivation': \"Reason for the patient's visit\",\n",
       " 'admission': [{'reason': 'Reason for admission to a care center',\n",
       "   'date': 'Date of first admission',\n",
       "   'duration': \"Length of patient's stay\",\n",
       "   'care center details': 'Any details of care center the patient was admitted to (e.g. oncology clinic)'}],\n",
       " 'patient information': {'age': \"Patient's age\",\n",
       "  'sex': \"Patient's sex\",\n",
       "  'ethnicity': \"Patient's ethnicity or nationality\",\n",
       "  'weight': \"Patient's weight\",\n",
       "  'height': \"Patient's height\",\n",
       "  'family medical history': 'Information about family medical history',\n",
       "  'recent travels': \"Details about patient's recent travels\",\n",
       "  'socio economic context': \"Patient's socioeconomic background\",\n",
       "  'occupation': \"Patient's occupation\"},\n",
       " 'patient medical history': {'physiological context': 'Relevant physiological history of the patient',\n",
       "  'psychological context': 'Relevant psychological history of the patient',\n",
       "  'vaccination history': 'History of vaccinations received by the patient',\n",
       "  'allergies': 'Any known allergies of the patient',\n",
       "  'exercise frequency': \"Frequency of patient's exercise activity\",\n",
       "  'nutrition': \"Information about patient's nutrition\",\n",
       "  'sexual history': \"Relevant details about patient's sexual history\",\n",
       "  'alcohol consumption': \"Patient's alcohol consumption habits\",\n",
       "  'drug usage': 'Information about any recreative drugs used by patient',\n",
       "  'smoking status': \"Patient's smoking status\"},\n",
       " 'surgeries': [{'reason': 'Reason for surgery',\n",
       "   'Type': 'Type of surgery performed',\n",
       "   'time': 'Time of surgery',\n",
       "   'outcome': 'Outcome of surgery',\n",
       "   'details': 'Details about the surgery'}],\n",
       " 'symptoms': [{'name of symptom': 'Specific symptom experienced by the patient',\n",
       "   'intensity of symptom': 'Severity or intensity of the symptom',\n",
       "   'location': 'Where the symptom is localized',\n",
       "   'time': 'Any temporal details about when the symtom appears',\n",
       "   'temporalisation': 'Any specific timing patterns associated with the symptom',\n",
       "   'behaviours affecting the symptom': \"Activities or actions that influence the symptom's severity or occurrence.\",\n",
       "   'details': 'All additional details about the symptom'}],\n",
       " 'medical examinations': [{'name': 'name of medical examination performed',\n",
       "   'result': 'Result or measurement of the physical examination',\n",
       "   'details': 'All additional details about the physical examination'}],\n",
       " 'diagnosis tests': [{'test': 'Name of medical test performed to diagnose the condition',\n",
       "   'severity': 'Severity level of diagnosed condition',\n",
       "   'result': 'Result or measurement of the medical test performed to diagnose the condition',\n",
       "   'condition': 'Name of medical conditions diagnosed',\n",
       "   'time': 'Any temporal details about when the diagnosis test was performed',\n",
       "   'details': 'All additional details about the medical test'}],\n",
       " 'treatments': [{'name': 'Treatment or medication prescribed to the patient',\n",
       "   'related condition': 'Medical condition that the treatment is prescribed for',\n",
       "   'dosage': 'Amount or strength of the treatment',\n",
       "   'time': 'Any temporal details about when the treatment was performed',\n",
       "   'frequency': 'How often the treatment is taken',\n",
       "   'duration': 'The length of time the patient should take the treatment',\n",
       "   'reason for taking': 'The medical reason for taking the treatment',\n",
       "   'reaction to treatment': \"Patient's reaction or response to the prescribed treatment\",\n",
       "   'details': 'All additional details about the treatment'}],\n",
       " 'discharge': {'reason': \"Reason motivating patient's discharge\",\n",
       "  'referral': 'Details about any referrals',\n",
       "  'follow up': 'Details about any follow up appointments',\n",
       "  'discharge summary': \"Summary of patient's discharge\"}}"
      ]
     },
     "execution_count": 37,
     "metadata": {},
     "output_type": "execute_result"
    }
   ],
   "source": [
    "# Load the template\n",
    "template_path = 'generation/templates/template.json'\n",
    "with open(template_path, 'r') as f:\n",
    "    template = json.load(f)\n",
    "\n",
    "# Load the template definitions\n",
    "template_def_path = 'generation/templates/template_definitions.json'\n",
    "with open(template_def_path, 'r') as f:\n",
    "    template_def = json.load(f)\n",
    "\n",
    "template_def"
   ]
  },
  {
   "cell_type": "markdown",
   "metadata": {},
   "source": [
    "### 1.4. **Finally generating patient summaries**\n",
    "\n",
    "Once we have a good prompting strategy and template, we generate triplets for the whole dataset.\n",
    "\n",
    "We sort the NoteChat dataset by decreasing order of length of the clinical note. This is because we want to extract patient summaries from the longest clinical notes first, as they are more likely to contain more information."
   ]
  },
  {
   "cell_type": "code",
   "execution_count": null,
   "metadata": {},
   "outputs": [],
   "source": [
    "import tiktoken\n",
    "def count_tokens(note: str):\n",
    "    encoding = tiktoken.encoding_for_model('gpt-4')\n",
    "    num_tokens = len(encoding.encode(note))\n",
    "    return num_tokens\n",
    "\n",
    "notechat['length'] = notechat['note'].apply(lambda x: count_tokens(x))\n",
    "notechat = notechat.sort_values(by=['length'], ascending=False)\n",
    "display(notechat.head(10))\n",
    "notechat = notechat.drop(columns=['length'])\n",
    "notechat['idx'] = notechat.index\n",
    "notechat.to_json('data/NoteChat_sorted.jsonl', orient='records', lines=True)"
   ]
  },
  {
   "cell_type": "markdown",
   "metadata": {},
   "source": [
    "We're now generating 30K patient summaries from NoteChat clinical notes using our `utils/chat.py` script."
   ]
  },
  {
   "cell_type": "code",
   "execution_count": 3,
   "metadata": {},
   "outputs": [],
   "source": [
    "model = 'gpt-4-1106-preview'\n",
    "chat = chat_gpt_4_turbo\n",
    "template_path = 'generation/templates/template_definitions.json'\n",
    "instruction_path = 'generation/instructions/instructions.txt'\n",
    "data_path = 'data/NoteChat_sorted.jsonl'\n",
    "save_path = 'generation/saves/summaries_full_gen.jsonl'\n",
    "keys_path = 'generation/keys.json'\n",
    "max_tokens= 500000\n",
    "nb_to_generate =30000\n",
    "\n",
    "extract(\n",
    "    model = model,\n",
    "    chat = chat,\n",
    "    template_path=template_path,\n",
    "    instruction_path=instruction_path,\n",
    "    data_path=data_path,\n",
    "    save_path=save_path,\n",
    "    use_notes=True, \n",
    "    use_dialogues=False,\n",
    "    max_tokens= max_tokens,\n",
    "    nb_to_generate = nb_to_generate)"
   ]
  },
  {
   "cell_type": "markdown",
   "metadata": {},
   "source": [
    "## 2. **Preparing fine-tuning datasets**\n",
    "\n",
    "We prepare three datasets from 30K triplets of (clinical note, dialogue transcript, patient summary) generated from NoteChat.\n",
    "\n",
    "- `summarizer_30K.jsonl`: input is the summarizer prompt + synthetic patient-doctor dialog from NoteChat, output is GPT-4's patient summary \n",
    "\n",
    "- `generator_30K.jsonl`: input is the generator prompt + patient summary from GPT-4, output is the clinical note from PMC-Patients. \n",
    "\n",
    "- `direct_30K.jsonl`: input is the direct prompt + synthetic patient-doctor dialog from NoteChat, output is the clinical note from PMC-Patients."
   ]
  },
  {
   "cell_type": "code",
   "execution_count": 3,
   "metadata": {},
   "outputs": [
    {
     "data": {
      "image/png": "[encoded data removed]",
      "text/plain": [
       "<Figure size 432x288 with 1 Axes>"
      ]
     },
     "metadata": {
      "needs_background": "light"
     },
     "output_type": "display_data"
    }
   ],
   "source": [
    "def length_histogram(df, key): \n",
    "    '''\n",
    "    Plots a histogram of the length of the notes.\n",
    "    '''\n",
    "    lengths = df[key].apply(lambda x: len(x.split()))\n",
    "    plt.hist(lengths, bins=max(lengths)-min(lengths)+1)\n",
    "    plt.xlim(0, 2000)\n",
    "    plt.xlabel('Length')\n",
    "    plt.ylabel('Frequency')\n",
    "    plt.title('Histogram of Length')\n",
    "    plt.show()\n",
    "\n",
    "def formatting(summary): \n",
    "    '''\n",
    "    Removes unnecessary spaces and formats the summary to save tokens. \n",
    "    '''\n",
    "    summary = summary.replace('. ', '.\\n')\n",
    "    summary = summary.replace('None', '\"None\"')\n",
    "    summary = re.sub(r'\\n\\s+\"', '\\n\"', summary)\n",
    "    summary = re.sub(r'\\n\\s+{', '\\n{', summary)\n",
    "    summary = re.sub(r'\\n\\s+}', '\\n}', summary)\n",
    "    summary = re.sub(r'\\n\\s+}', '\\n]', summary)\n",
    "    summary = re.sub(r'\\n\\s+]', '\\n]', summary)\n",
    "    return summary\n",
    "\n",
    "summaries_path = 'generation/summaries/summaries_30K.jsonl'\n",
    "summaries = pd.read_json(summaries_path, lines=True)\n",
    "summaries['summary'] = summaries['summary'].apply(formatting)          \n",
    "summaries['data'] = summaries['data'].apply(lambda x: x.strip())\n",
    "summaries['conversation'] = summaries['conversation'].apply(lambda x: x.strip().replace('\\n\\n', '\\n'))\n",
    "length_histogram(summaries, key='data')"
   ]
  },
  {
   "cell_type": "markdown",
   "metadata": {},
   "source": [
    "### 2.1. **Summarizer**: dialog to summary"
   ]
  },
  {
   "cell_type": "code",
   "execution_count": null,
   "metadata": {},
   "outputs": [],
   "source": [
    "with open('generation/instructions/summarize.txt', 'r') as f:\n",
    "    summarizer_prompt = f.read()\n",
    "\n",
    "summarizer_path = 'generation/summaries/summarizer_30K.jsonl'\n",
    "if not os.path.exists(summarizer_path):\n",
    "    summarizer = summaries.copy()\n",
    "    summarizer['prompt'] = summarizer_prompt + '\\n\\n' + summarizer['conversation']\n",
    "    summarizer['gold'] = summarizer['summary']\n",
    "    summarizer = summarizer.drop(columns=['conversation', 'summary', 'data'])\n",
    "    summarizer.to_json('generation/summaries/summarizer_30K.jsonl', orient='records', lines=True)"
   ]
  },
  {
   "cell_type": "markdown",
   "metadata": {},
   "source": [
    "### 2.2. **Generator**: summary to note"
   ]
  },
  {
   "cell_type": "code",
   "execution_count": null,
   "metadata": {},
   "outputs": [],
   "source": [
    "with open('generation/instructions/generate.txt', 'r') as f:\n",
    "    generator_prompt = f.read()\n",
    "\n",
    "generator_path = 'generation/summaries/generator_30K.jsonl'\n",
    "if not os.path.exists(generator_path):\n",
    "    generator = summaries.copy()\n",
    "    generator['prompt'] = generator_prompt + '\\n\\n' + generator['summary']\n",
    "    generator['gold'] = generator['data']\n",
    "    generator = generator.drop(columns=['summary', 'data', 'conversation'])\n",
    "    generator.to_json('generation/summaries/generator_30K.jsonl', orient='records', lines=True)"
   ]
  },
  {
   "cell_type": "markdown",
   "metadata": {},
   "source": [
    "### 2.3. **Direct generation**: dialog to note\n",
    "\n",
    "Here, we noticed that the NoteChat dataset contains truncated clinical notes. To fix this issue, we find full 167K clinical notes from the original PMC-Patients dataset and add them to the NoteChat dataset. We find 29798 out of 30000 full clinical notes; the remaining 202 clinical notes are not available in the PMC-Patients dataset and we use the versions from the NoteChat dataset.\n",
    "\n",
    "**NOTE**: Only the direct dataset has full clinical notes, because the other two already are often over the 2K context length of Meditron due to the template being included in the prompt. \n"
   ]
  },
  {
   "cell_type": "code",
   "execution_count": 4,
   "metadata": {},
   "outputs": [
    {
     "name": "stderr",
     "output_type": "stream",
     "text": [
      "Creating set of truncated patient notes: 100%|██████████| 167034/167034 [00:02<00:00, 65412.44it/s]\n",
      "Matching truncated notes to full notes: 100%|██████████| 30000/30000 [00:01<00:00, 16698.82it/s]\n"
     ]
    },
    {
     "name": "stdout",
     "output_type": "stream",
     "text": [
      "Number of matches: 29798 out of 30000\n"
     ]
    },
    {
     "data": {
      "image/png": "[encoded data removed]",
      "text/plain": [
       "<Figure size 432x288 with 1 Axes>"
      ]
     },
     "metadata": {
      "needs_background": "light"
     },
     "output_type": "display_data"
    }
   ],
   "source": [
    "# Load PMC-Patients dataset\n",
    "PMC_path = 'data/PMC-Patients.jsonl'\n",
    "if os.path.exists(PMC_path): \n",
    "    PMC = pd.read_json(PMC_path, orient='records', lines=True)\n",
    "else: \n",
    "    PMC = load_dataset(\"zhengyun21/PMC-Patients\", split='train').to_pandas()\n",
    "    PMC.to_json('data/PMC-Patients.jsonl', orient='records', lines=True)\n",
    "\n",
    "def truncate(string):\n",
    "    string = string.strip()\n",
    "    return string if len(string) <= 200 else string[:100]\n",
    "\n",
    "# Make a set of truncated patient notes from PMC\n",
    "full_notes = {}\n",
    "for i, row in tqdm(PMC.iterrows(), total=len(PMC), desc='Creating set of truncated patient notes'):\n",
    "    full_notes[truncate(row['patient'])] = i\n",
    "\n",
    "# Now iterate through the summaries and find matches in the PMC dataset\n",
    "full_summaries = summaries.copy()\n",
    "full_summaries['full_note'] = None\n",
    "num_matches = 0\n",
    "for i, row in tqdm(summaries.iterrows(), total=len(summaries), desc='Matching truncated notes to full notes'):\n",
    "    truncated_data = truncate(row['data'])\n",
    "    matches = full_notes.get(truncated_data, None)\n",
    "    if matches is not None:\n",
    "        num_matches += 1\n",
    "        idx = full_notes[truncated_data]\n",
    "        full_summaries.at[i, 'full_note'] = PMC.iloc[idx]['patient']\n",
    "    else: \n",
    "        full_summaries.at[i, 'full_note'] = row['data']\n",
    "\n",
    "print(f'Number of matches: {num_matches} out of {len(summaries)}')\n",
    "\n",
    "full_summaries.to_json('generation/summaries/full_summaries_30K.jsonl', orient='records', lines=True)\n",
    "length_histogram(full_summaries, key='full_note')"
   ]
  },
  {
   "cell_type": "markdown",
   "metadata": {},
   "source": [
    "Now that we have the full notes, we prepare the direct dataset: "
   ]
  },
  {
   "cell_type": "code",
   "execution_count": 5,
   "metadata": {},
   "outputs": [],
   "source": [
    "with open('generation/instructions/direct.txt', 'r') as f:\n",
    "    direct_prompt = f.read()\n",
    "full_summaries = pd.read_json('generation/summaries/full_summaries_30K.jsonl', orient='records', lines=True)\n",
    "direct_path = 'generation/summaries/direct_30K.jsonl'\n",
    "#if not os.path.exists(direct_path):\n",
    "direct = full_summaries.copy()\n",
    "direct['prompt'] = direct_prompt + '\\n\\n' + direct['conversation']\n",
    "direct['gold'] = direct['full_note']\n",
    "direct = direct.drop(columns=['summary', 'data', 'conversation', 'full_note'])\n",
    "direct.to_json('generation/summaries/direct_30K.jsonl', orient='records', lines=True)\n",
    "# else: \n",
    "#     direct = pd.read_json(direct_path, orient='records', lines=True)"
   ]
  },
  {
   "cell_type": "markdown",
   "metadata": {},
   "source": [
    "### 2.4. **Train-test split**\n",
    "\n",
    "Of course, we reserve 10% of each dataset to run inference and evaluate the model. "
   ]
  },
  {
   "cell_type": "code",
   "execution_count": 6,
   "metadata": {},
   "outputs": [],
   "source": [
    "from sklearn.model_selection import train_test_split\n",
    "summarizer_train, summarizer_test = train_test_split(summarizer, test_size=0.1, random_state=42)\n",
    "generator_train, generator_test = train_test_split(generator, test_size=0.1, random_state=42)\n",
    "direct_train, direct_test = train_test_split(direct, test_size=0.1, random_state=42)\n",
    "\n",
    "summarizer_train.to_json('generation/summaries/summarizer_train.jsonl', orient='records', lines=True)\n",
    "summarizer_test.to_json('generation/summaries/summarizer_test.jsonl', orient='records', lines=True)\n",
    "generator_train.to_json('generation/summaries/generator_train.jsonl', orient='records', lines=True)\n",
    "generator_test.to_json('generation/summaries/generator_test.jsonl', orient='records', lines=True)\n",
    "direct_train.to_json('generation/summaries/direct_train.jsonl', orient='records', lines=True)\n",
    "direct_test.to_json('generation/summaries/direct_test.jsonl', orient='records', lines=True)"
   ]
  },
  {
   "cell_type": "markdown",
   "metadata": {},
   "source": [
    "### Some statistics"
   ]
  },
  {
   "cell_type": "code",
   "execution_count": 10,
   "metadata": {},
   "outputs": [
    {
     "data": {
      "image/png": "[encoded data removed]",
      "text/plain": [
       "<Figure size 432x288 with 1 Axes>"
      ]
     },
     "metadata": {
      "needs_background": "light"
     },
     "output_type": "display_data"
    }
   ],
   "source": [
    "summarizer = pd.read_json('generation/summaries/generator_30K.jsonl', orient='records', lines=True)\n",
    "encoder = tiktoken.encoding_for_model('gpt-4')\n",
    "summarizer['length'] = summarizer.apply(lambda row: len(encoder.encode(row['prompt']) + encoder.encode(row['gold'])), axis=1)\n",
    "plt.hist(summarizer['length'], bins=max(summarizer['length'])-min(summarizer['length'])+1)\n",
    "plt.xlabel('Length')\n",
    "plt.ylabel('Frequency')\n",
    "plt.title('Histogram of summary + note token count')\n",
    "plt.show()"
   ]
  },
  {
   "cell_type": "code",
   "execution_count": 9,
   "metadata": {},
   "outputs": [
    {
     "data": {
      "image/png": "[encoded data removed]",
      "text/plain": [
       "<Figure size 432x288 with 1 Axes>"
      ]
     },
     "metadata": {
      "needs_background": "light"
     },
     "output_type": "display_data"
    }
   ],
   "source": [
    "summarizer = pd.read_json('generation/summaries/summarizer_30K.jsonl', orient='records', lines=True)\n",
    "encoder = tiktoken.encoding_for_model('gpt-4')\n",
    "summarizer['length'] = summarizer.apply(lambda row: len(encoder.encode(row['prompt']) + encoder.encode(row['gold'])), axis=1)\n",
    "plt.hist(summarizer['length'], bins=max(summarizer['length'])-min(summarizer['length'])+1)\n",
    "plt.xlabel('Length')\n",
    "plt.ylabel('Frequency')\n",
    "plt.title('Histogram of dialog + summary token count')\n",
    "plt.show()"
   ]
  },
  {
   "cell_type": "markdown",
   "metadata": {},
   "source": [
    "## 3. **Evaluation**"
   ]
  },
  {
   "cell_type": "code",
   "execution_count": null,
   "metadata": {},
   "outputs": [],
   "source": [
    "file_path = \"generation/templates/template_definitions.json\"\n",
    "with open(file_path, \"r\") as file:\n",
    "    template_def = json.load(file)\n",
    "template_def\n",
    "flat = flatten_and_match_dicts(template_def, template_def, match_score=random__match_score)"
   ]
  },
  {
   "cell_type": "code",
   "execution_count": 18,
   "metadata": {},
   "outputs": [
    {
     "ename": "NameError",
     "evalue": "name 'evaluate_dict' is not defined",
     "output_type": "error",
     "traceback": [
      "\u001b[0;31m---------------------------------------------------------------------------\u001b[0m",
      "\u001b[0;31mNameError\u001b[0m                                 Traceback (most recent call last)",
      "Cell \u001b[0;32mIn [18], line 7\u001b[0m\n\u001b[1;32m      4\u001b[0m \u001b[38;5;28;01mwith\u001b[39;00m \u001b[38;5;28mopen\u001b[39m(\u001b[38;5;124m'\u001b[39m\u001b[38;5;124mgeneration/templates/template_definitions.json\u001b[39m\u001b[38;5;124m'\u001b[39m, \u001b[38;5;124m'\u001b[39m\u001b[38;5;124mr\u001b[39m\u001b[38;5;124m'\u001b[39m) \u001b[38;5;28;01mas\u001b[39;00m f:\n\u001b[1;32m      5\u001b[0m     pred_dict \u001b[38;5;241m=\u001b[39m json\u001b[38;5;241m.\u001b[39mload(f)\n\u001b[0;32m----> 7\u001b[0m \u001b[43mevaluate_dict\u001b[49m(gold_dict, pred_dict)\n",
      "\u001b[0;31mNameError\u001b[0m: name 'evaluate_dict' is not defined"
     ]
    }
   ],
   "source": [
    "\n",
    "evaluate_dict(gold_dict, gold_dict)"
   ]
  },
  {
   "cell_type": "code",
   "execution_count": 16,
   "metadata": {},
   "outputs": [
    {
     "name": "stdout",
     "output_type": "stream",
     "text": [
      "Initialized scorer with score types:  ['bleu', 'rouge', 'bert', 'gpt_rank', 'gpt_score']\n",
      "\n",
      "BLEU score: 0.7647058823529411\n",
      "\n",
      "ROUGE score: {'rouge1': 0.7142857142857143, 'rouge2': 0.46153846153846156, 'rougeL': 0.7142857142857143, 'rougeLsum': 0.7142857142857143}\n",
      "\n",
      "BERT score: 0.9766755700111389\n",
      "\n",
      "GPT-4 ranking: {'winner': 'tie', 'explanation': 'Neither note provides relevant clinical information, patient data, or medical insights, which are essential for high-quality clinical notes; instead, they both merely introduce individuals with their names, professions, and ages, which are not pertinent to clinical documentation.'}\n",
      "\n",
      "GPT-4 similarity: {'similarity': 4, 'explanation': 'Both notes introduce a medical professional with different names, professions (surgeon vs. doctor), and ages, indicating they share a general theme of personal introductions in a medical context but differ in specific details.'}\n",
      "Scores: {'bleu': 0.7647058823529411, 'rouge': {'rouge1': 0.7142857142857143, 'rouge2': 0.46153846153846156, 'rougeL': 0.7142857142857143, 'rougeLsum': 0.7142857142857143}, 'bert': 0.9766755700111389, 'gpt_rank': {'winner': 'tie', 'explanation': 'Neither note provides relevant clinical information, patient data, or medical insights, which are essential for high-quality clinical notes; instead, they both merely introduce individuals with their names, professions, and ages, which are not pertinent to clinical documentation.'}, 'gpt_score': {'similarity': 4, 'explanation': 'Both notes introduce a medical professional with different names, professions (surgeon vs. doctor), and ages, indicating they share a general theme of personal introductions in a medical context but differ in specific details.'}}\n"
     ]
    }
   ],
   "source": [
    "scorer = Scorer(score_types='all', cot=True)\n",
    "gold = 'Hello my name is Antoine. I am a doctor. I am 30 years old.'\n",
    "pred = 'Hi my name is Britney. I am a surgeon. I am 21 years old.'\n",
    "scores = await scorer(gold, pred)\n",
    "print('Scores:', scores)"
   ]
  },
  {
   "cell_type": "markdown",
   "metadata": {},
   "source": []
  }
 ],
 "metadata": {
  "kernelspec": {
   "display_name": "Python 3",
   "language": "python",
   "name": "python3"
  },
  "language_info": {
   "codemirror_mode": {
    "name": "ipython",
    "version": 3
   },
   "file_extension": ".py",
   "mimetype": "text/x-python",
   "name": "python",
   "nbconvert_exporter": "python",
   "pygments_lexer": "ipython3",
   "version": "3.9.18"
  }
 },
 "nbformat": 4,
 "nbformat_minor": 2
}
